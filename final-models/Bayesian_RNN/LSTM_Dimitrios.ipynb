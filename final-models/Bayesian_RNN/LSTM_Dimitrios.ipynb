{
 "cells": [
  {
   "cell_type": "code",
   "execution_count": 1,
   "metadata": {},
   "outputs": [],
   "source": [
    "import tensorflow as tf\n",
    "import numpy as np\n",
    "from sklearn.preprocessing import StandardScaler, MinMaxScaler\n",
    "import pandas as pd\n",
    "from sklearn.model_selection import train_test_split\n",
    "import os\n",
    "import sqlite3\n",
    "\n",
    "physical_devices = tf.config.list_physical_devices('GPU')\n",
    "\n",
    "tf.config.experimental.set_memory_growth(physical_devices[0], enable=True)"
   ]
  },
  {
   "cell_type": "code",
   "execution_count": 2,
   "metadata": {},
   "outputs": [],
   "source": [
    "def training_data():\n",
    "\n",
    "    dir = '../../SQL_Data/constant_setup'\n",
    "    files = os.listdir(dir)\n",
    "    files = [f for f in files if f.endswith('.sqlite3')]\n",
    "\n",
    "    data = []\n",
    "    for f in files:\n",
    "        path = os.path.join(dir, f)\n",
    "        conn = sqlite3.connect(path)\n",
    "        if os.path.getsize(path) > 10000:\n",
    "            cur = conn.cursor()\n",
    "            cur.execute('SELECT * FROM TrainingData')\n",
    "            df = pd.DataFrame(cur.fetchall())\n",
    "            data.append(df)\n",
    "\n",
    "    names = list(map(lambda x: x[0], cur.description))\n",
    "    df = pd.concat(data)\n",
    "    df.columns = names\n",
    "    df = df.drop(['frameIdentifier','bestLapTime', 'pkt_id', 'packetId', 'SessionTime', 'finalLapTime'], axis=1)\n",
    "    df.set_index('index', inplace=True)\n",
    "\n",
    "    return df\n",
    "\n",
    "def pad_laps(data):\n",
    "    frames = []\n",
    "    sessions = data.groupby('sessionUID')\n",
    "    for s in list(sessions.groups):\n",
    "        session = sessions.get_group(s)\n",
    "        laps = session.groupby('currentLapNum')\n",
    "        for l in list(laps.groups):\n",
    "            lap = laps.get_group(l)\n",
    "            for i in range(5):\n",
    "                lap = lap.append(pd.Series(0, index=lap.columns), ignore_index=True)\n",
    "            frames.append(lap)\n",
    "    frames = pd.concat(frames)\n",
    "    return frames\n",
    "\n",
    "def sub_sample(df):\n",
    "    arr = []\n",
    "    session_groups = df.groupby('sessionUID')\n",
    "    for s in list(session_groups.groups):\n",
    "        session = session_groups.get_group(s)\n",
    "        lap_groups = session.groupby('currentLapNum')\n",
    "        for l in list(lap_groups.groups):\n",
    "            lap = lap_groups.get_group(l)\n",
    "            df2 = lap[lap.index % 10 == 0]  # Selects every 10th row starting from 0\n",
    "            arr.append(df2)\n",
    "\n",
    "    sub_sampled_data = pd.concat(arr)\n",
    "    print(f'Full sub sample shape {sub_sampled_data.shape}')\n",
    "    return sub_sampled_data\n"
   ]
  },
  {
   "cell_type": "code",
   "execution_count": 3,
   "metadata": {},
   "outputs": [
    {
     "name": "stdout",
     "output_type": "stream",
     "text": [
      "Full sub sample shape (162867, 49)\n"
     ]
    }
   ],
   "source": [
    "df1 = training_data()\n",
    "\n",
    "df1 = sub_sample(df1)\n",
    "\n",
    "df = df1[['lastLapTime', 'currentLapTime','fuelRemainingLaps', 'engineTemperature', \n",
    "        'fuelInTank', 'carPosition', 'lapDistance', 'worldVelocityX', 'lap_time_remaining',\n",
    "       'currentLapNum', 'worldPositionX', 'tyresWearFL', 'tyresAgeLaps',\n",
    "       'frontLeftWingDamage', 'tyresWearRL', 'tyresSurfaceTemperatureFR','sessionUID'\n",
    "       ]]\n",
    "\n"
   ]
  },
  {
   "cell_type": "code",
   "execution_count": 4,
   "metadata": {},
   "outputs": [
    {
     "name": "stdout",
     "output_type": "stream",
     "text": [
      "Total Records: 163987\n",
      "Number of samples in training set (.8 * n): trainX = 131189\n",
      "Number of samples in testing set (.2 * n): testX = 32798\n",
      "Number of total samples in training feature set: 131180\n",
      "Number of samples in testing feature set: 32788\n"
     ]
    }
   ],
   "source": [
    "\n",
    "data = pad_laps(df)\n",
    "data.reset_index(inplace=True, drop=True)\n",
    "\n",
    "training = pd.DataFrame()\n",
    "scalers = {}\n",
    "training_sessions = data.pop('sessionUID')\n",
    "for i in data.columns:\n",
    "    scaler = MinMaxScaler(feature_range=(-1,1))\n",
    "    s = scaler.fit_transform(data[i].values.reshape(-1,1))\n",
    "    s = np.reshape(s, len(s))\n",
    "    scalers['scaler_'+ i ] = scaler\n",
    "    training[i] = s\n",
    "  \n",
    "training['sessionUID'] = training_sessions.to_numpy()\n",
    "\n",
    "target = training.pop('lap_time_remaining')\n",
    "\n",
    "\n",
    "# training_data = []\n",
    "# target_data = []\n",
    "# total_laps = 0\n",
    "# lap_groups = df.groupby('currentLapNum')\n",
    "# total_laps += len(lap_groups)\n",
    "# for l in list(lap_groups.groups):\n",
    "#     lap = lap_groups.get_group(l)\n",
    "#     target_data.append(lap.pop('lap_time_remaining'))\n",
    "#     training_data.append(lap)\n",
    "# training = [x.to_numpy() for x in training_data]\n",
    "# target = [y.to_numpy() for y in target_data]\n",
    "# print(f'Total Laps: {total_laps}')\n",
    "# training = np.concatenate(training, axis=1)\n",
    "# target = np.concatenate(target, axis=1)\n",
    "\n",
    "\n",
    "# split into train and test sets\n",
    "trainX, testX, trainY, testY = train_test_split(training, target, test_size=0.2, random_state=42, shuffle = False)\n",
    "\n",
    "\n",
    "test_sessions = testX.pop('sessionUID')\n",
    "train_session = trainX.pop('sessionUID')\n",
    "\n",
    "test_df_names = list(testX.columns)\n",
    "\n",
    "\n",
    "trainX = trainX.to_numpy()\n",
    "testX = testX.to_numpy()\n",
    "trainY = trainY.to_numpy()\n",
    "testY = testY.to_numpy()\n",
    "\n",
    "\n",
    "\n",
    "\n",
    "# create overlapping windows\n",
    "timesteps = training.shape[0]-1\n",
    "look_back = 10\n",
    "batch_size = 2\n",
    "train_generator = tf.keras.preprocessing.sequence.TimeseriesGenerator(trainX, trainY, length=look_back, sampling_rate=1, stride=1, batch_size=batch_size)\n",
    "test_generator = tf.keras.preprocessing.sequence.TimeseriesGenerator(testX, testY, length=look_back, sampling_rate=1, stride=1, batch_size=1)\n",
    "\n",
    "\n",
    "train_X, train_y = train_generator[0]\n",
    "test_X, test_y = test_generator[0]\n",
    "\n",
    "train_samples = train_X.shape[0]*len(train_generator)\n",
    "test_samples = test_X.shape[0]*len(test_generator)\n",
    "\n",
    "print(\"Total Records: {}\".format(len(training)))\n",
    "print(\"Number of samples in training set (.8 * n): trainX = {}\".format(trainX.shape[0]))\n",
    "print(\"Number of samples in testing set (.2 * n): testX = {}\".format(testX.shape[0]))\n",
    "print(\"Number of total samples in training feature set: {}\".format(train_samples))\n",
    "print(\"Number of samples in testing feature set: {}\".format(test_samples))"
   ]
  },
  {
   "cell_type": "code",
   "execution_count": 5,
   "metadata": {},
   "outputs": [
    {
     "name": "stdout",
     "output_type": "stream",
     "text": [
      "Epoch 1/15\n",
      "65590/65590 [==============================] - 719s 11ms/step - loss: 0.0364 - mae: 0.0929 - val_loss: 0.0028 - val_mae: 0.0409\n",
      "Epoch 2/15\n",
      "65590/65590 [==============================] - 697s 11ms/step - loss: 0.0027 - mae: 0.0376 - val_loss: 0.0030 - val_mae: 0.0425\n",
      "Epoch 3/15\n",
      "65590/65590 [==============================] - 712s 11ms/step - loss: 0.0025 - mae: 0.0337 - val_loss: 0.0031 - val_mae: 0.0430\n",
      "Epoch 4/15\n",
      "65590/65590 [==============================] - 703s 11ms/step - loss: 0.0023 - mae: 0.0315 - val_loss: 0.0054 - val_mae: 0.0605\n"
     ]
    }
   ],
   "source": [
    "# define model\n",
    "learning_rate = 0.001\n",
    "units = 128\n",
    "epochs = 15\n",
    "from tensorflow.keras.models import Sequential\n",
    "from tensorflow.keras.layers import Dense, LSTM, Dropout, LeakyReLU,Bidirectional\n",
    "from tensorflow.keras.callbacks import EarlyStopping, ModelCheckpoint\n",
    "model = Sequential()\n",
    "model.add(Bidirectional(LSTM(units, return_sequences=True), input_shape=(train_X.shape[1], train_X.shape[2])))\n",
    "model.add(LeakyReLU(alpha=0.5))\n",
    "model.add(Dropout(0.1))\n",
    "model.add(Bidirectional(LSTM(units, return_sequences=True)))\n",
    "model.add(LeakyReLU(alpha=0.5))\n",
    "model.add(Dropout(0.1))\n",
    "model.add(Bidirectional(LSTM(units)))\n",
    "model.add(LeakyReLU(alpha=0.5))\n",
    "model.add(Dropout(0.1))\n",
    "model.add(Dense(1))\n",
    "\n",
    "adam = tf.keras.optimizers.Adam(lr=0.001)\n",
    "callback = [EarlyStopping(min_delta = 0.0001, patience = 3, mode = 'auto', restore_best_weights=True),  ModelCheckpoint('generator_sel_lstm.h5')] \n",
    "model.compile(optimizer=adam, loss='mse', metrics=['mae'])\n",
    "\n",
    "# model = tf.keras.models.load_model('generator_lstm.h5')\n",
    "history = model.fit(train_generator, validation_data = test_generator, callbacks=callback, shuffle=False, epochs=epochs) "
   ]
  },
  {
   "cell_type": "code",
   "execution_count": 6,
   "metadata": {},
   "outputs": [],
   "source": [
    "model = tf.keras.models.load_model('generator_final_lstm.h5')\n",
    "pred = model.predict(test_generator)"
   ]
  },
  {
   "cell_type": "code",
   "execution_count": 7,
   "metadata": {},
   "outputs": [],
   "source": [
    "predictions = scalers['scaler_lap_time_remaining'].inverse_transform(pred)\n",
    "truth = [y for (x,y) in test_generator]\n",
    "# for i in range(len(test_generator)):\n",
    "#     x,y = test_generator[i]\n",
    "#     truth.append(y)\n",
    "    \n",
    "truth = np.array(truth)\n",
    "truth = scalers['scaler_lap_time_remaining'].inverse_transform(truth)\n",
    "err = truth-predictions"
   ]
  },
  {
   "cell_type": "code",
   "execution_count": 8,
   "metadata": {},
   "outputs": [],
   "source": [
    "# test_df = pd.DataFrame()\n",
    "# df\n",
    "# for col in list(df.columns):\n",
    "#     unscaled = scalers[f'scaler_{col}'].inverse_transform(df[col].values.reshape(-1,1))\n",
    "#     unscaled = np.reshape(unscaled, len(unscaled))\n",
    "#     test_df[col] = unscaled\n",
    "\n",
    "ans = pd.DataFrame()\n",
    "ans['truth'] = truth.ravel()\n",
    "ans['predictions'] = predictions.ravel()\n",
    "ans['residuals'] = err.ravel()"
   ]
  },
  {
   "cell_type": "code",
   "execution_count": 9,
   "metadata": {},
   "outputs": [],
   "source": [
    "# ans.to_csv('gen_lstm_dimitrios.csv')"
   ]
  },
  {
   "cell_type": "code",
   "execution_count": 10,
   "metadata": {},
   "outputs": [
    {
     "data": {
      "image/png": "[encoded data removed]",
      "text/plain": [
       "<Figure size 432x288 with 1 Axes>"
      ]
     },
     "metadata": {
      "needs_background": "light"
     },
     "output_type": "display_data"
    }
   ],
   "source": [
    "from matplotlib import pyplot as plt\n",
    "plt.plot(ans['truth'])\n",
    "plt.plot(ans['predictions'])\n",
    "plt.show()"
   ]
  },
  {
   "cell_type": "code",
   "execution_count": 11,
   "metadata": {},
   "outputs": [],
   "source": [
    "test_df = pd.DataFrame(testX)\n",
    "names = list(data.columns)\n",
    "names = names[:-1]\n",
    "test_df.columns = names\n",
    "\n",
    "for col in list(test_df.columns):\n",
    "    us = scalers[f'scaler_{col}'].inverse_transform(test_df[col].values.reshape(-1,1))\n",
    "    us = np.reshape(us, len(us))\n",
    "    test_df[col] = us\n",
    "\n",
    "test_df['sessionUID'] = test_sessions.to_numpy()\n",
    "test_df['truth'] = pd.Series(ans['truth'])\n",
    "test_df['predictions'] = pd.Series(ans['predictions'])\n",
    "test_df['residuals'] = pd.Series(ans['residuals'])\n",
    "test_df.to_csv('LSTM_sel.csv')"
   ]
  },
  {
   "cell_type": "code",
   "execution_count": 12,
   "metadata": {},
   "outputs": [
    {
     "data": {
      "image/png": "[encoded data removed]",
      "text/plain": [
       "<Figure size 432x288 with 1 Axes>"
      ]
     },
     "metadata": {
      "needs_background": "light"
     },
     "output_type": "display_data"
    }
   ],
   "source": [
    "plt.scatter(x = test_df['currentLapTime'], y = test_df['residuals'])\n",
    "plt.show()"
   ]
  },
  {
   "cell_type": "code",
   "execution_count": 13,
   "metadata": {},
   "outputs": [
    {
     "name": "stdout",
     "output_type": "stream",
     "text": [
      "<class 'pandas.core.frame.DataFrame'>\n",
      "RangeIndex: 32798 entries, 0 to 32797\n",
      "Data columns (total 19 columns):\n",
      " #   Column               Non-Null Count  Dtype  \n",
      "---  ------               --------------  -----  \n",
      " 0   lastLapTime          32798 non-null  float64\n",
      " 1   currentLapTime       32798 non-null  float64\n",
      " 2   fuelRemainingLaps    32798 non-null  float64\n",
      " 3   engineTemperature    32798 non-null  float64\n",
      " 4   fuelInTank           32798 non-null  float64\n",
      " 5   carPosition          32798 non-null  float64\n",
      " 6   lapDistance          32798 non-null  float64\n",
      " 7   worldVelocityX       32798 non-null  float64\n",
      " 8   lap_time_remaining   32798 non-null  float64\n",
      " 9   currentLapNum        32798 non-null  float64\n",
      " 10  worldPositionX       32798 non-null  float64\n",
      " 11  tyresWearFL          32798 non-null  float64\n",
      " 12  tyresAgeLaps         32798 non-null  float64\n",
      " 13  frontLeftWingDamage  32798 non-null  float64\n",
      " 14  tyresWearRL          32798 non-null  float64\n",
      " 15  sessionUID           32798 non-null  object \n",
      " 16  truth                32788 non-null  float64\n",
      " 17  predictions          32788 non-null  float32\n",
      " 18  residuals            32788 non-null  float64\n",
      "dtypes: float32(1), float64(17), object(1)\n",
      "memory usage: 4.6+ MB\n",
      "None\n"
     ]
    }
   ],
   "source": [
    "print(test_df.info())"
   ]
  },
  {
   "cell_type": "code",
   "execution_count": 14,
   "metadata": {},
   "outputs": [
    {
     "ename": "TypeError",
     "evalue": "'TimeseriesGenerator' object is not an iterator",
     "output_type": "error",
     "traceback": [
      "\u001b[0;31m---------------------------------------------------------------------------\u001b[0m",
      "\u001b[0;31mTypeError\u001b[0m                                 Traceback (most recent call last)",
      "\u001b[0;32m<ipython-input-14-eb6eec77a1ed>\u001b[0m in \u001b[0;36m<module>\u001b[0;34m\u001b[0m\n\u001b[1;32m     10\u001b[0m         \u001b[0mprint\u001b[0m\u001b[0;34m(\u001b[0m\u001b[0;34mf'Variable {i+1}, perturbation effect: {effect:.4f}'\u001b[0m\u001b[0;34m)\u001b[0m\u001b[0;34m\u001b[0m\u001b[0;34m\u001b[0m\u001b[0m\n\u001b[1;32m     11\u001b[0m \u001b[0;34m\u001b[0m\u001b[0m\n\u001b[0;32m---> 12\u001b[0;31m \u001b[0mvar_importance\u001b[0m\u001b[0;34m(\u001b[0m\u001b[0mmodel\u001b[0m\u001b[0;34m,\u001b[0m \u001b[0mtest_generator\u001b[0m\u001b[0;34m)\u001b[0m\u001b[0;34m\u001b[0m\u001b[0;34m\u001b[0m\u001b[0m\n\u001b[0m\u001b[1;32m     13\u001b[0m \u001b[0;34m\u001b[0m\u001b[0m\n\u001b[1;32m     14\u001b[0m \u001b[0;34m\u001b[0m\u001b[0m\n",
      "\u001b[0;32m<ipython-input-14-eb6eec77a1ed>\u001b[0m in \u001b[0;36mvar_importance\u001b[0;34m(model, g)\u001b[0m\n\u001b[1;32m      1\u001b[0m \u001b[0;32mdef\u001b[0m \u001b[0mvar_importance\u001b[0m\u001b[0;34m(\u001b[0m\u001b[0mmodel\u001b[0m\u001b[0;34m,\u001b[0m \u001b[0mg\u001b[0m\u001b[0;34m)\u001b[0m\u001b[0;34m:\u001b[0m\u001b[0;34m\u001b[0m\u001b[0;34m\u001b[0m\u001b[0m\n\u001b[0;32m----> 2\u001b[0;31m     \u001b[0mx\u001b[0m \u001b[0;34m=\u001b[0m \u001b[0mnp\u001b[0m\u001b[0;34m.\u001b[0m\u001b[0mconcatenate\u001b[0m\u001b[0;34m(\u001b[0m\u001b[0;34m[\u001b[0m\u001b[0mnext\u001b[0m\u001b[0;34m(\u001b[0m\u001b[0mg\u001b[0m\u001b[0;34m)\u001b[0m\u001b[0;34m[\u001b[0m\u001b[0;36m0\u001b[0m\u001b[0;34m]\u001b[0m \u001b[0;32mfor\u001b[0m \u001b[0m_\u001b[0m \u001b[0;32min\u001b[0m \u001b[0mrange\u001b[0m\u001b[0;34m(\u001b[0m\u001b[0;36m50\u001b[0m\u001b[0;34m)\u001b[0m\u001b[0;34m]\u001b[0m\u001b[0;34m)\u001b[0m \u001b[0;31m# Get a sample of data\u001b[0m\u001b[0;34m\u001b[0m\u001b[0;34m\u001b[0m\u001b[0m\n\u001b[0m\u001b[1;32m      3\u001b[0m     \u001b[0morig_out\u001b[0m \u001b[0;34m=\u001b[0m \u001b[0mmodel\u001b[0m\u001b[0;34m.\u001b[0m\u001b[0mpredict\u001b[0m\u001b[0;34m(\u001b[0m\u001b[0mx\u001b[0m\u001b[0;34m)\u001b[0m\u001b[0;34m\u001b[0m\u001b[0;34m\u001b[0m\u001b[0m\n\u001b[1;32m      4\u001b[0m     \u001b[0;32mfor\u001b[0m \u001b[0mi\u001b[0m \u001b[0;32min\u001b[0m \u001b[0mrange\u001b[0m\u001b[0;34m(\u001b[0m\u001b[0;34m)\u001b[0m\u001b[0;34m:\u001b[0m  \u001b[0;31m# iterate over the three features\u001b[0m\u001b[0;34m\u001b[0m\u001b[0;34m\u001b[0m\u001b[0m\n\u001b[1;32m      5\u001b[0m         \u001b[0mnew_x\u001b[0m \u001b[0;34m=\u001b[0m \u001b[0mx\u001b[0m\u001b[0;34m.\u001b[0m\u001b[0mcopy\u001b[0m\u001b[0;34m(\u001b[0m\u001b[0;34m)\u001b[0m\u001b[0;34m\u001b[0m\u001b[0;34m\u001b[0m\u001b[0m\n",
      "\u001b[0;32m<ipython-input-14-eb6eec77a1ed>\u001b[0m in \u001b[0;36m<listcomp>\u001b[0;34m(.0)\u001b[0m\n\u001b[1;32m      1\u001b[0m \u001b[0;32mdef\u001b[0m \u001b[0mvar_importance\u001b[0m\u001b[0;34m(\u001b[0m\u001b[0mmodel\u001b[0m\u001b[0;34m,\u001b[0m \u001b[0mg\u001b[0m\u001b[0;34m)\u001b[0m\u001b[0;34m:\u001b[0m\u001b[0;34m\u001b[0m\u001b[0;34m\u001b[0m\u001b[0m\n\u001b[0;32m----> 2\u001b[0;31m     \u001b[0mx\u001b[0m \u001b[0;34m=\u001b[0m \u001b[0mnp\u001b[0m\u001b[0;34m.\u001b[0m\u001b[0mconcatenate\u001b[0m\u001b[0;34m(\u001b[0m\u001b[0;34m[\u001b[0m\u001b[0mnext\u001b[0m\u001b[0;34m(\u001b[0m\u001b[0mg\u001b[0m\u001b[0;34m)\u001b[0m\u001b[0;34m[\u001b[0m\u001b[0;36m0\u001b[0m\u001b[0;34m]\u001b[0m \u001b[0;32mfor\u001b[0m \u001b[0m_\u001b[0m \u001b[0;32min\u001b[0m \u001b[0mrange\u001b[0m\u001b[0;34m(\u001b[0m\u001b[0;36m50\u001b[0m\u001b[0;34m)\u001b[0m\u001b[0;34m]\u001b[0m\u001b[0;34m)\u001b[0m \u001b[0;31m# Get a sample of data\u001b[0m\u001b[0;34m\u001b[0m\u001b[0;34m\u001b[0m\u001b[0m\n\u001b[0m\u001b[1;32m      3\u001b[0m     \u001b[0morig_out\u001b[0m \u001b[0;34m=\u001b[0m \u001b[0mmodel\u001b[0m\u001b[0;34m.\u001b[0m\u001b[0mpredict\u001b[0m\u001b[0;34m(\u001b[0m\u001b[0mx\u001b[0m\u001b[0;34m)\u001b[0m\u001b[0;34m\u001b[0m\u001b[0;34m\u001b[0m\u001b[0m\n\u001b[1;32m      4\u001b[0m     \u001b[0;32mfor\u001b[0m \u001b[0mi\u001b[0m \u001b[0;32min\u001b[0m \u001b[0mrange\u001b[0m\u001b[0;34m(\u001b[0m\u001b[0;34m)\u001b[0m\u001b[0;34m:\u001b[0m  \u001b[0;31m# iterate over the three features\u001b[0m\u001b[0;34m\u001b[0m\u001b[0;34m\u001b[0m\u001b[0m\n\u001b[1;32m      5\u001b[0m         \u001b[0mnew_x\u001b[0m \u001b[0;34m=\u001b[0m \u001b[0mx\u001b[0m\u001b[0;34m.\u001b[0m\u001b[0mcopy\u001b[0m\u001b[0;34m(\u001b[0m\u001b[0;34m)\u001b[0m\u001b[0;34m\u001b[0m\u001b[0;34m\u001b[0m\u001b[0m\n",
      "\u001b[0;31mTypeError\u001b[0m: 'TimeseriesGenerator' object is not an iterator"
     ]
    }
   ],
   "source": [
    "def var_importance(model, g):\n",
    "    x = np.concatenate([next(g)[0] for _ in range(50)]) # Get a sample of data\n",
    "    orig_out = model.predict(x)\n",
    "    for i in range():  # iterate over the three features\n",
    "        new_x = x.copy()\n",
    "        perturbation = np.random.normal(0.0, 0.2, size=new_x.shape[:2])\n",
    "        new_x[:, :, i] = new_x[:, :, i] + perturbation\n",
    "        perturbed_out = model.predict(new_x)\n",
    "        effect = ((orig_out - perturbed_out) ** 2).mean() ** 0.5\n",
    "        print(f'Variable {i+1}, perturbation effect: {effect:.4f}')\n",
    "        \n",
    "var_importance(model, test_generator)\n",
    "        \n",
    "    "
   ]
  }
 ],
 "metadata": {
  "kernelspec": {
   "display_name": "Python 3",
   "language": "python",
   "name": "python3"
  },
  "language_info": {
   "codemirror_mode": {
    "name": "ipython",
    "version": 3
   },
   "file_extension": ".py",
   "mimetype": "text/x-python",
   "name": "python",
   "nbconvert_exporter": "python",
   "pygments_lexer": "ipython3",
   "version": "3.8.8"
  }
 },
 "nbformat": 4,
 "nbformat_minor": 2
}
