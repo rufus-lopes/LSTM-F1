{
 "cells": [
  {
   "cell_type": "code",
   "execution_count": 1,
   "id": "royal-devices",
   "metadata": {},
   "outputs": [
    {
     "name": "stdout",
     "output_type": "stream",
     "text": [
      "PhysicalDevice(name='/physical_device:GPU:0', device_type='GPU')\n"
     ]
    }
   ],
   "source": [
    "import tensorflow as tf\n",
    "import numpy as np\n",
    "from sklearn.preprocessing import StandardScaler, MinMaxScaler\n",
    "import pandas as pd\n",
    "from sklearn.model_selection import train_test_split\n",
    "import sqlite3\n",
    "import pandas as pd\n",
    "from pathlib import Path\n",
    "import os\n",
    "from matplotlib import pyplot as plt\n",
    "from tensorflow.keras.models import Sequential\n",
    "from tensorflow.keras.layers import Dense, LSTM, Dropout, LeakyReLU\n",
    "from tensorflow.keras.callbacks import EarlyStopping, ModelCheckpoint\n",
    "from tensorflow.keras.preprocessing.sequence import TimeseriesGenerator\n",
    "\n",
    "physical_devices = tf.config.list_physical_devices('GPU')\n",
    "print(physical_devices[0])\n",
    "tf.config.experimental.set_memory_growth(physical_devices[0], True)"
   ]
  },
  {
   "cell_type": "code",
   "execution_count": 2,
   "id": "informal-immigration",
   "metadata": {},
   "outputs": [],
   "source": [
    "def import_training_data():\n",
    "\n",
    "    ''' imports training data as a pandas DataFrame '''\n",
    "\n",
    "    dir = '../../SQL_Data/constant_setup'\n",
    "    files = os.listdir(dir)\n",
    "    files = [f for f in files if f.endswith('.sqlite3')]\n",
    "\n",
    "    data = []\n",
    "    for f in files:\n",
    "        path = os.path.join(dir, f)\n",
    "        conn = sqlite3.connect(path)\n",
    "        if os.path.getsize(path) > 10000:\n",
    "            cur = conn.cursor()\n",
    "            cur.execute('SELECT * FROM TrainingData')\n",
    "            df = pd.DataFrame(cur.fetchall())\n",
    "            data.append(df)\n",
    "\n",
    "    names = list(map(lambda x: x[0], cur.description))\n",
    "    df = pd.concat(data)\n",
    "    df.columns = names\n",
    "    df = df.drop(['frameIdentifier','bestLapTime', 'pkt_id', 'packetId', 'SessionTime', 'index' ], axis=1)\n",
    "    df.reset_index()\n",
    "\n",
    "    print('Data Imported')\n",
    "\n",
    "    return df"
   ]
  },
  {
   "cell_type": "code",
   "execution_count": 3,
   "id": "foreign-gazette",
   "metadata": {},
   "outputs": [],
   "source": [
    "def pad_data(training, target):\n",
    "    \n",
    "    max_timesteps = 10000 # max(training, key=len).shape[0]\n",
    "    num_rows_to_add = [max_timesteps-l.shape[0] for l in training]\n",
    "    training_pad = []\n",
    "    target_pad = []\n",
    "    print(f'max timesteps : {max_timesteps}')\n",
    "    \n",
    "    for i in range(len(training)):\n",
    "        rows_to_add = num_rows_to_add[i]\n",
    "\n",
    "        training_arr = training[i]\n",
    "        training_append = np.zeros((rows_to_add, training[0].shape[1]), dtype=float)\n",
    "        training_array = np.vstack((training_arr, training_append))\n",
    "        training_pad.append(training_array)\n",
    "\n",
    "        target_arr = target[i].reshape(target[i].shape[0])\n",
    "        target_append = np.zeros((rows_to_add), dtype=float)\n",
    "        target_array = np.concatenate([target_arr, np.zeros(rows_to_add)])\n",
    "        target_pad.append(target_array)\n",
    "    \n",
    "    return training_pad, target_pad"
   ]
  },
  {
   "cell_type": "code",
   "execution_count": 4,
   "id": "working-variety",
   "metadata": {},
   "outputs": [],
   "source": [
    "def scale_data(data):\n",
    "    scalers = {}\n",
    "    sessionUIDs = data.pop('sessionUID')\n",
    "    lap_number = data.pop('currentLapNum')\n",
    "    for i in data.columns:\n",
    "        scaler = MinMaxScaler()\n",
    "        s = scaler.fit_transform(data[i].values.reshape(-1,1))\n",
    "        s = np.reshape(s, len(s))\n",
    "        scalers['scaler_'+ i ] = scaler\n",
    "        data[i] = s\n",
    "\n",
    "    data['sessionUID'] = sessionUIDs\n",
    "    data['currentLapNum'] = lap_number\n",
    "    \n",
    "    return data, scalers"
   ]
  },
  {
   "cell_type": "code",
   "execution_count": 5,
   "id": "balanced-richards",
   "metadata": {},
   "outputs": [],
   "source": [
    "def dataframe_format(data):\n",
    "    data.reset_index(drop=True, inplace=True)\n",
    "    \n",
    "    session_groups = data.groupby('sessionUID')\n",
    "    samples = []\n",
    "    targets = []\n",
    "    total_laps = 0\n",
    "    \n",
    "    for s in list(session_groups.groups):\n",
    "        session = session_groups.get_group(s)\n",
    "        lap_groups = session.groupby('currentLapNum')\n",
    "        total_laps += len(lap_groups)\n",
    "        for l in list(lap_groups.groups):\n",
    "            lap = lap_groups.get_group(l)\n",
    "            lap = lap.drop(['sessionUID'], axis=1)\n",
    "            targ = pd.DataFrame(lap.pop('lap_time_remaining'))\n",
    "            targets.append(targ)\n",
    "            samples.append(lap)\n",
    "    \n",
    "    sample_cols = list(samples[0].columns)\n",
    "    target_cols = list(targets[0].columns)\n",
    "\n",
    "    training = [x.to_numpy() for x in samples]\n",
    "    target = [y.to_numpy() for y in targets]\n",
    "    \n",
    "    training, target = pad_data(training, target)\n",
    "    \n",
    "    split = int(total_laps*0.9)\n",
    "\n",
    "    X_train = training[:split]\n",
    "    X_test  = training[split:]\n",
    "    y_train = target[:split]\n",
    "    y_test  = target[split:]\n",
    "    \n",
    "    \n",
    "    Xtrain = np.concatenate(X_train)\n",
    "    Xtest  = np.concatenate(X_test)\n",
    "    Ytrain = np.concatenate(y_train)\n",
    "    Ytest  = np.concatenate(y_test)\n",
    "    \n",
    "    trainX = pd.DataFrame(Xtrain, columns=sample_cols)\n",
    "    testX  = pd.DataFrame(Xtest, columns=sample_cols)\n",
    "    trainY = pd.DataFrame()\n",
    "    testY  = pd.DataFrame()\n",
    "    \n",
    "    trainY['lap_time_remaining'] = Ytrain\n",
    "    testY['lap_time_remaining']  = Ytest\n",
    "    \n",
    "    trainX.drop('currentLapNum', axis=1, inplace=True)\n",
    "    testX.drop('currentLapNum', axis=1, inplace=True)\n",
    "    \n",
    "    return trainX, testX, trainY, testY"
   ]
  },
  {
   "cell_type": "code",
   "execution_count": 6,
   "id": "sharp-washer",
   "metadata": {},
   "outputs": [],
   "source": [
    "def single_generator(trainX, testX, trainY, testY):\n",
    "    ''' Creates train and test generators from data for a single lap/sequence'''\n",
    "\n",
    "    look_back = 5\n",
    "    batch_size = 1\n",
    "\n",
    "    train_generator = tf.keras.preprocessing.sequence.TimeseriesGenerator(trainX, trainY, length=look_back, sampling_rate=1, stride=1, batch_size=batch_size)\n",
    "    test_generator = tf.keras.preprocessing.sequence.TimeseriesGenerator(testX, testY, length=look_back, sampling_rate=1, stride=1, batch_size=1)\n",
    "\n",
    "    return train_generator, test_generator"
   ]
  },
  {
   "cell_type": "code",
   "execution_count": 8,
   "id": "round-calendar",
   "metadata": {},
   "outputs": [],
   "source": [
    "def train_model(model, train_generator):\n",
    "    ''' training the model'''\n",
    "    EPOCHS = 10\n",
    "    callback = [EarlyStopping(monitor=\"loss\", min_delta = 0.0001, patience = 10, mode = 'auto', \n",
    "                restore_best_weights=True),\n",
    "                ModelCheckpoint('generator_lstm.h5')]\n",
    "    history = model.fit(train_generator, callbacks=callback, shuffle=False, epochs=EPOCHS, batch_size=1)\n",
    "    return history, model"
   ]
  },
  {
   "cell_type": "code",
   "execution_count": 9,
   "id": "humanitarian-detroit",
   "metadata": {},
   "outputs": [],
   "source": [
    "def build_model(train_generator):\n",
    "\n",
    "    ''' buils model and prints out summary'''\n",
    "    trainX, trainY = train_generator[0]\n",
    "\n",
    "    learning_rate = 0.001\n",
    "    units = 128\n",
    "    epochs = 100\n",
    "    from tensorflow.keras.models import Sequential\n",
    "    from tensorflow.keras.layers import Dense, LSTM, Dropout, LeakyReLU\n",
    "    from tensorflow.keras.callbacks import EarlyStopping\n",
    "\n",
    "    model = Sequential()\n",
    "    model.add(tf.keras.layers.Masking(mask_value=0., input_shape=(trainX.shape[1], trainX.shape[2])))\n",
    "    model.add(LSTM(units, ))\n",
    "    model.add(LeakyReLU(alpha=0.5))\n",
    "    model.add(Dropout(0.1))\n",
    "    model.add(Dense(1))\n",
    "\n",
    "    adam = tf.keras.optimizers.Adam(lr=learning_rate)\n",
    "\n",
    "    model.compile(optimizer=adam, loss='mse', metrics=['mae'])\n",
    "\n",
    "    print(model.summary())\n",
    "\n",
    "    print('Model Built')\n",
    "\n",
    "    return model"
   ]
  },
  {
   "cell_type": "code",
   "execution_count": 10,
   "id": "promotional-galaxy",
   "metadata": {},
   "outputs": [
    {
     "name": "stdout",
     "output_type": "stream",
     "text": [
      "Data Imported\n"
     ]
    }
   ],
   "source": [
    "data = import_training_data()"
   ]
  },
  {
   "cell_type": "code",
   "execution_count": 11,
   "id": "scenic-provincial",
   "metadata": {},
   "outputs": [
    {
     "name": "stdout",
     "output_type": "stream",
     "text": [
      "<class 'pandas.core.frame.DataFrame'>\n",
      "Int64Index: 1628590 entries, 0 to 80681\n",
      "Data columns (total 50 columns):\n",
      " #   Column                     Non-Null Count    Dtype  \n",
      "---  ------                     --------------    -----  \n",
      " 0   lastLapTime                1628590 non-null  float64\n",
      " 1   currentLapTime             1628590 non-null  float64\n",
      " 2   currentLapNum              1628590 non-null  int64  \n",
      " 3   finalLapTime               1628590 non-null  float64\n",
      " 4   lapDistance                1628590 non-null  float64\n",
      " 5   carPosition                1628590 non-null  int64  \n",
      " 6   sector                     1628590 non-null  int64  \n",
      " 7   sessionUID                 1628590 non-null  object \n",
      " 8   worldPositionX             1628590 non-null  float64\n",
      " 9   worldPositionY             1628590 non-null  float64\n",
      " 10  worldPositionZ             1628590 non-null  float64\n",
      " 11  worldVelocityX             1628590 non-null  float64\n",
      " 12  worldVelocityY             1628590 non-null  float64\n",
      " 13  worldVelocityZ             1628590 non-null  float64\n",
      " 14  yaw                        1628590 non-null  float64\n",
      " 15  pitch                      1628590 non-null  float64\n",
      " 16  roll                       1628590 non-null  float64\n",
      " 17  speed                      1628590 non-null  int64  \n",
      " 18  throttle                   1628590 non-null  float64\n",
      " 19  steer                      1628590 non-null  float64\n",
      " 20  brake                      1628590 non-null  float64\n",
      " 21  clutch                     1628590 non-null  int64  \n",
      " 22  gear                       1628590 non-null  int64  \n",
      " 23  engineRPM                  1628590 non-null  int64  \n",
      " 24  drs                        1628590 non-null  int64  \n",
      " 25  brakesTemperatureRL        1628590 non-null  int64  \n",
      " 26  brakesTemperatureRR        1628590 non-null  int64  \n",
      " 27  brakesTemperatureFL        1628590 non-null  int64  \n",
      " 28  brakesTemperatureFR        1628590 non-null  int64  \n",
      " 29  tyresSurfaceTemperatureRL  1628590 non-null  int64  \n",
      " 30  tyresSurfaceTemperatureRR  1628590 non-null  int64  \n",
      " 31  tyresSurfaceTemperatureFL  1628590 non-null  int64  \n",
      " 32  tyresSurfaceTemperatureFR  1628590 non-null  int64  \n",
      " 33  engineTemperature          1628590 non-null  int64  \n",
      " 34  fuelMix                    1628590 non-null  int64  \n",
      " 35  FrontBrakeBias             1628590 non-null  int64  \n",
      " 36  fuelInTank                 1628590 non-null  float64\n",
      " 37  fuelRemainingLaps          1628590 non-null  float64\n",
      " 38  tyresWearRL                1628590 non-null  int64  \n",
      " 39  tyresWearRR                1628590 non-null  int64  \n",
      " 40  tyresWearFL                1628590 non-null  int64  \n",
      " 41  tyresWearFR                1628590 non-null  int64  \n",
      " 42  actualTyreCompound         1628590 non-null  int64  \n",
      " 43  tyresAgeLaps               1628590 non-null  int64  \n",
      " 44  frontLeftWingDamage        1628590 non-null  int64  \n",
      " 45  frontRightWingDamage       1628590 non-null  int64  \n",
      " 46  rearWingDamage             1628590 non-null  int64  \n",
      " 47  gearBoxDamage              1628590 non-null  int64  \n",
      " 48  engineDamage               1628590 non-null  int64  \n",
      " 49  lap_time_remaining         1628590 non-null  float64\n",
      "dtypes: float64(19), int64(30), object(1)\n",
      "memory usage: 633.7+ MB\n"
     ]
    }
   ],
   "source": [
    "data.info()"
   ]
  },
  {
   "cell_type": "code",
   "execution_count": 12,
   "id": "brutal-drunk",
   "metadata": {},
   "outputs": [
    {
     "name": "stdout",
     "output_type": "stream",
     "text": [
      "max timesteps : 10000\n",
      "Model: \"sequential\"\n",
      "_________________________________________________________________\n",
      "Layer (type)                 Output Shape              Param #   \n",
      "=================================================================\n",
      "masking (Masking)            (None, 5, 47)             0         \n",
      "_________________________________________________________________\n",
      "lstm (LSTM)                  (None, 128)               90112     \n",
      "_________________________________________________________________\n",
      "leaky_re_lu (LeakyReLU)      (None, 128)               0         \n",
      "_________________________________________________________________\n",
      "dropout (Dropout)            (None, 128)               0         \n",
      "_________________________________________________________________\n",
      "dense (Dense)                (None, 1)                 129       \n",
      "=================================================================\n",
      "Total params: 90,241\n",
      "Trainable params: 90,241\n",
      "Non-trainable params: 0\n",
      "_________________________________________________________________\n",
      "None\n",
      "Model Built\n"
     ]
    }
   ],
   "source": [
    "# data = pd.read_csv('sample_data.csv')\n",
    "\n",
    "data, scalers = scale_data(data)\n",
    "\n",
    "train_X, test_X, train_Y, test_Y = dataframe_format(data)\n",
    "\n",
    "trainX = train_X.to_numpy()\n",
    "testX  = test_X.to_numpy()\n",
    "trainY = train_Y.to_numpy()\n",
    "testY = test_Y.to_numpy()\n",
    "\n",
    "\n",
    "train_generator, test_generator = single_generator(trainX, testX, trainY, testY)\n",
    "\n",
    "model = build_model(train_generator)\n"
   ]
  },
  {
   "cell_type": "code",
   "execution_count": 13,
   "id": "structural-shopper",
   "metadata": {},
   "outputs": [
    {
     "name": "stdout",
     "output_type": "stream",
     "text": [
      "Epoch 1/10\n",
      "2009995/2009995 [==============================] - 10522s 5ms/step - loss: 3.7616e-04 - mae: 0.0082\n",
      "Epoch 2/10\n",
      "2009995/2009995 [==============================] - 10521s 5ms/step - loss: 2.5367e-04 - mae: 0.0073\n",
      "Epoch 3/10\n",
      "2009995/2009995 [==============================] - 10462s 5ms/step - loss: 2.6395e-04 - mae: 0.0073\n",
      "Epoch 4/10\n",
      "2009995/2009995 [==============================] - 10447s 5ms/step - loss: 3.1310e-04 - mae: 0.0074\n",
      "Epoch 5/10\n",
      "2009995/2009995 [==============================] - 10450s 5ms/step - loss: 2.9481e-04 - mae: 0.0073\n",
      "Epoch 6/10\n",
      "2009995/2009995 [==============================] - 10440s 5ms/step - loss: 4.0415e-04 - mae: 0.0074\n",
      "Epoch 7/10\n",
      "2009995/2009995 [==============================] - 10484s 5ms/step - loss: 3.8293e-04 - mae: 0.0074\n",
      "Epoch 8/10\n",
      "2009995/2009995 [==============================] - 10656s 5ms/step - loss: 6.7983e-04 - mae: 0.0076\n",
      "Epoch 9/10\n",
      " 908839/2009995 [============>.................] - ETA: 1:50:44 - loss: 8.5354e-04 - mae: 0.0090"
     ]
    },
    {
     "ename": "KeyboardInterrupt",
     "evalue": "",
     "output_type": "error",
     "traceback": [
      "\u001b[0;31m---------------------------------------------------------------------------\u001b[0m",
      "\u001b[0;31mKeyboardInterrupt\u001b[0m                         Traceback (most recent call last)",
      "\u001b[0;32m<ipython-input-13-8ad9db39bd70>\u001b[0m in \u001b[0;36m<module>\u001b[0;34m\u001b[0m\n\u001b[0;32m----> 1\u001b[0;31m \u001b[0mhistory\u001b[0m\u001b[0;34m,\u001b[0m \u001b[0mmodel\u001b[0m \u001b[0;34m=\u001b[0m \u001b[0mtrain_model\u001b[0m\u001b[0;34m(\u001b[0m\u001b[0mmodel\u001b[0m\u001b[0;34m,\u001b[0m \u001b[0mtrain_generator\u001b[0m\u001b[0;34m)\u001b[0m\u001b[0;34m\u001b[0m\u001b[0;34m\u001b[0m\u001b[0m\n\u001b[0m",
      "\u001b[0;32m<ipython-input-8-64aa5fd82fbf>\u001b[0m in \u001b[0;36mtrain_model\u001b[0;34m(model, train_generator)\u001b[0m\n\u001b[1;32m      5\u001b[0m                 restore_best_weights=True),\n\u001b[1;32m      6\u001b[0m                 ModelCheckpoint('generator_lstm.h5')]\n\u001b[0;32m----> 7\u001b[0;31m     \u001b[0mhistory\u001b[0m \u001b[0;34m=\u001b[0m \u001b[0mmodel\u001b[0m\u001b[0;34m.\u001b[0m\u001b[0mfit\u001b[0m\u001b[0;34m(\u001b[0m\u001b[0mtrain_generator\u001b[0m\u001b[0;34m,\u001b[0m \u001b[0mcallbacks\u001b[0m\u001b[0;34m=\u001b[0m\u001b[0mcallback\u001b[0m\u001b[0;34m,\u001b[0m \u001b[0mshuffle\u001b[0m\u001b[0;34m=\u001b[0m\u001b[0;32mFalse\u001b[0m\u001b[0;34m,\u001b[0m \u001b[0mepochs\u001b[0m\u001b[0;34m=\u001b[0m\u001b[0mEPOCHS\u001b[0m\u001b[0;34m,\u001b[0m \u001b[0mbatch_size\u001b[0m\u001b[0;34m=\u001b[0m\u001b[0;36m1\u001b[0m\u001b[0;34m)\u001b[0m\u001b[0;34m\u001b[0m\u001b[0;34m\u001b[0m\u001b[0m\n\u001b[0m\u001b[1;32m      8\u001b[0m     \u001b[0;32mreturn\u001b[0m \u001b[0mhistory\u001b[0m\u001b[0;34m,\u001b[0m \u001b[0mmodel\u001b[0m\u001b[0;34m\u001b[0m\u001b[0;34m\u001b[0m\u001b[0m\n",
      "\u001b[0;32m~/miniconda3/envs/tensorflow/lib/python3.8/site-packages/tensorflow/python/keras/engine/training.py\u001b[0m in \u001b[0;36mfit\u001b[0;34m(self, x, y, batch_size, epochs, verbose, callbacks, validation_split, validation_data, shuffle, class_weight, sample_weight, initial_epoch, steps_per_epoch, validation_steps, validation_batch_size, validation_freq, max_queue_size, workers, use_multiprocessing)\u001b[0m\n\u001b[1;32m   1098\u001b[0m                 _r=1):\n\u001b[1;32m   1099\u001b[0m               \u001b[0mcallbacks\u001b[0m\u001b[0;34m.\u001b[0m\u001b[0mon_train_batch_begin\u001b[0m\u001b[0;34m(\u001b[0m\u001b[0mstep\u001b[0m\u001b[0;34m)\u001b[0m\u001b[0;34m\u001b[0m\u001b[0;34m\u001b[0m\u001b[0m\n\u001b[0;32m-> 1100\u001b[0;31m               \u001b[0mtmp_logs\u001b[0m \u001b[0;34m=\u001b[0m \u001b[0mself\u001b[0m\u001b[0;34m.\u001b[0m\u001b[0mtrain_function\u001b[0m\u001b[0;34m(\u001b[0m\u001b[0miterator\u001b[0m\u001b[0;34m)\u001b[0m\u001b[0;34m\u001b[0m\u001b[0;34m\u001b[0m\u001b[0m\n\u001b[0m\u001b[1;32m   1101\u001b[0m               \u001b[0;32mif\u001b[0m \u001b[0mdata_handler\u001b[0m\u001b[0;34m.\u001b[0m\u001b[0mshould_sync\u001b[0m\u001b[0;34m:\u001b[0m\u001b[0;34m\u001b[0m\u001b[0;34m\u001b[0m\u001b[0m\n\u001b[1;32m   1102\u001b[0m                 \u001b[0mcontext\u001b[0m\u001b[0;34m.\u001b[0m\u001b[0masync_wait\u001b[0m\u001b[0;34m(\u001b[0m\u001b[0;34m)\u001b[0m\u001b[0;34m\u001b[0m\u001b[0;34m\u001b[0m\u001b[0m\n",
      "\u001b[0;32m~/miniconda3/envs/tensorflow/lib/python3.8/site-packages/tensorflow/python/eager/def_function.py\u001b[0m in \u001b[0;36m__call__\u001b[0;34m(self, *args, **kwds)\u001b[0m\n\u001b[1;32m    826\u001b[0m     \u001b[0mtracing_count\u001b[0m \u001b[0;34m=\u001b[0m \u001b[0mself\u001b[0m\u001b[0;34m.\u001b[0m\u001b[0mexperimental_get_tracing_count\u001b[0m\u001b[0;34m(\u001b[0m\u001b[0;34m)\u001b[0m\u001b[0;34m\u001b[0m\u001b[0;34m\u001b[0m\u001b[0m\n\u001b[1;32m    827\u001b[0m     \u001b[0;32mwith\u001b[0m \u001b[0mtrace\u001b[0m\u001b[0;34m.\u001b[0m\u001b[0mTrace\u001b[0m\u001b[0;34m(\u001b[0m\u001b[0mself\u001b[0m\u001b[0;34m.\u001b[0m\u001b[0m_name\u001b[0m\u001b[0;34m)\u001b[0m \u001b[0;32mas\u001b[0m \u001b[0mtm\u001b[0m\u001b[0;34m:\u001b[0m\u001b[0;34m\u001b[0m\u001b[0;34m\u001b[0m\u001b[0m\n\u001b[0;32m--> 828\u001b[0;31m       \u001b[0mresult\u001b[0m \u001b[0;34m=\u001b[0m \u001b[0mself\u001b[0m\u001b[0;34m.\u001b[0m\u001b[0m_call\u001b[0m\u001b[0;34m(\u001b[0m\u001b[0;34m*\u001b[0m\u001b[0margs\u001b[0m\u001b[0;34m,\u001b[0m \u001b[0;34m**\u001b[0m\u001b[0mkwds\u001b[0m\u001b[0;34m)\u001b[0m\u001b[0;34m\u001b[0m\u001b[0;34m\u001b[0m\u001b[0m\n\u001b[0m\u001b[1;32m    829\u001b[0m       \u001b[0mcompiler\u001b[0m \u001b[0;34m=\u001b[0m \u001b[0;34m\"xla\"\u001b[0m \u001b[0;32mif\u001b[0m \u001b[0mself\u001b[0m\u001b[0;34m.\u001b[0m\u001b[0m_experimental_compile\u001b[0m \u001b[0;32melse\u001b[0m \u001b[0;34m\"nonXla\"\u001b[0m\u001b[0;34m\u001b[0m\u001b[0;34m\u001b[0m\u001b[0m\n\u001b[1;32m    830\u001b[0m       \u001b[0mnew_tracing_count\u001b[0m \u001b[0;34m=\u001b[0m \u001b[0mself\u001b[0m\u001b[0;34m.\u001b[0m\u001b[0mexperimental_get_tracing_count\u001b[0m\u001b[0;34m(\u001b[0m\u001b[0;34m)\u001b[0m\u001b[0;34m\u001b[0m\u001b[0;34m\u001b[0m\u001b[0m\n",
      "\u001b[0;32m~/miniconda3/envs/tensorflow/lib/python3.8/site-packages/tensorflow/python/eager/def_function.py\u001b[0m in \u001b[0;36m_call\u001b[0;34m(self, *args, **kwds)\u001b[0m\n\u001b[1;32m    853\u001b[0m       \u001b[0;31m# In this case we have created variables on the first call, so we run the\u001b[0m\u001b[0;34m\u001b[0m\u001b[0;34m\u001b[0m\u001b[0;34m\u001b[0m\u001b[0m\n\u001b[1;32m    854\u001b[0m       \u001b[0;31m# defunned version which is guaranteed to never create variables.\u001b[0m\u001b[0;34m\u001b[0m\u001b[0;34m\u001b[0m\u001b[0;34m\u001b[0m\u001b[0m\n\u001b[0;32m--> 855\u001b[0;31m       \u001b[0;32mreturn\u001b[0m \u001b[0mself\u001b[0m\u001b[0;34m.\u001b[0m\u001b[0m_stateless_fn\u001b[0m\u001b[0;34m(\u001b[0m\u001b[0;34m*\u001b[0m\u001b[0margs\u001b[0m\u001b[0;34m,\u001b[0m \u001b[0;34m**\u001b[0m\u001b[0mkwds\u001b[0m\u001b[0;34m)\u001b[0m  \u001b[0;31m# pylint: disable=not-callable\u001b[0m\u001b[0;34m\u001b[0m\u001b[0;34m\u001b[0m\u001b[0m\n\u001b[0m\u001b[1;32m    856\u001b[0m     \u001b[0;32melif\u001b[0m \u001b[0mself\u001b[0m\u001b[0;34m.\u001b[0m\u001b[0m_stateful_fn\u001b[0m \u001b[0;32mis\u001b[0m \u001b[0;32mnot\u001b[0m \u001b[0;32mNone\u001b[0m\u001b[0;34m:\u001b[0m\u001b[0;34m\u001b[0m\u001b[0;34m\u001b[0m\u001b[0m\n\u001b[1;32m    857\u001b[0m       \u001b[0;31m# Release the lock early so that multiple threads can perform the call\u001b[0m\u001b[0;34m\u001b[0m\u001b[0;34m\u001b[0m\u001b[0;34m\u001b[0m\u001b[0m\n",
      "\u001b[0;32m~/miniconda3/envs/tensorflow/lib/python3.8/site-packages/tensorflow/python/eager/function.py\u001b[0m in \u001b[0;36m__call__\u001b[0;34m(self, *args, **kwargs)\u001b[0m\n\u001b[1;32m   2940\u001b[0m       (graph_function,\n\u001b[1;32m   2941\u001b[0m        filtered_flat_args) = self._maybe_define_function(args, kwargs)\n\u001b[0;32m-> 2942\u001b[0;31m     return graph_function._call_flat(\n\u001b[0m\u001b[1;32m   2943\u001b[0m         filtered_flat_args, captured_inputs=graph_function.captured_inputs)  # pylint: disable=protected-access\n\u001b[1;32m   2944\u001b[0m \u001b[0;34m\u001b[0m\u001b[0m\n",
      "\u001b[0;32m~/miniconda3/envs/tensorflow/lib/python3.8/site-packages/tensorflow/python/eager/function.py\u001b[0m in \u001b[0;36m_call_flat\u001b[0;34m(self, args, captured_inputs, cancellation_manager)\u001b[0m\n\u001b[1;32m   1916\u001b[0m         and executing_eagerly):\n\u001b[1;32m   1917\u001b[0m       \u001b[0;31m# No tape is watching; skip to running the function.\u001b[0m\u001b[0;34m\u001b[0m\u001b[0;34m\u001b[0m\u001b[0;34m\u001b[0m\u001b[0m\n\u001b[0;32m-> 1918\u001b[0;31m       return self._build_call_outputs(self._inference_function.call(\n\u001b[0m\u001b[1;32m   1919\u001b[0m           ctx, args, cancellation_manager=cancellation_manager))\n\u001b[1;32m   1920\u001b[0m     forward_backward = self._select_forward_and_backward_functions(\n",
      "\u001b[0;32m~/miniconda3/envs/tensorflow/lib/python3.8/site-packages/tensorflow/python/eager/function.py\u001b[0m in \u001b[0;36mcall\u001b[0;34m(self, ctx, args, cancellation_manager)\u001b[0m\n\u001b[1;32m    553\u001b[0m       \u001b[0;32mwith\u001b[0m \u001b[0m_InterpolateFunctionError\u001b[0m\u001b[0;34m(\u001b[0m\u001b[0mself\u001b[0m\u001b[0;34m)\u001b[0m\u001b[0;34m:\u001b[0m\u001b[0;34m\u001b[0m\u001b[0;34m\u001b[0m\u001b[0m\n\u001b[1;32m    554\u001b[0m         \u001b[0;32mif\u001b[0m \u001b[0mcancellation_manager\u001b[0m \u001b[0;32mis\u001b[0m \u001b[0;32mNone\u001b[0m\u001b[0;34m:\u001b[0m\u001b[0;34m\u001b[0m\u001b[0;34m\u001b[0m\u001b[0m\n\u001b[0;32m--> 555\u001b[0;31m           outputs = execute.execute(\n\u001b[0m\u001b[1;32m    556\u001b[0m               \u001b[0mstr\u001b[0m\u001b[0;34m(\u001b[0m\u001b[0mself\u001b[0m\u001b[0;34m.\u001b[0m\u001b[0msignature\u001b[0m\u001b[0;34m.\u001b[0m\u001b[0mname\u001b[0m\u001b[0;34m)\u001b[0m\u001b[0;34m,\u001b[0m\u001b[0;34m\u001b[0m\u001b[0;34m\u001b[0m\u001b[0m\n\u001b[1;32m    557\u001b[0m               \u001b[0mnum_outputs\u001b[0m\u001b[0;34m=\u001b[0m\u001b[0mself\u001b[0m\u001b[0;34m.\u001b[0m\u001b[0m_num_outputs\u001b[0m\u001b[0;34m,\u001b[0m\u001b[0;34m\u001b[0m\u001b[0;34m\u001b[0m\u001b[0m\n",
      "\u001b[0;32m~/miniconda3/envs/tensorflow/lib/python3.8/site-packages/tensorflow/python/eager/execute.py\u001b[0m in \u001b[0;36mquick_execute\u001b[0;34m(op_name, num_outputs, inputs, attrs, ctx, name)\u001b[0m\n\u001b[1;32m     57\u001b[0m   \u001b[0;32mtry\u001b[0m\u001b[0;34m:\u001b[0m\u001b[0;34m\u001b[0m\u001b[0;34m\u001b[0m\u001b[0m\n\u001b[1;32m     58\u001b[0m     \u001b[0mctx\u001b[0m\u001b[0;34m.\u001b[0m\u001b[0mensure_initialized\u001b[0m\u001b[0;34m(\u001b[0m\u001b[0;34m)\u001b[0m\u001b[0;34m\u001b[0m\u001b[0;34m\u001b[0m\u001b[0m\n\u001b[0;32m---> 59\u001b[0;31m     tensors = pywrap_tfe.TFE_Py_Execute(ctx._handle, device_name, op_name,\n\u001b[0m\u001b[1;32m     60\u001b[0m                                         inputs, attrs, num_outputs)\n\u001b[1;32m     61\u001b[0m   \u001b[0;32mexcept\u001b[0m \u001b[0mcore\u001b[0m\u001b[0;34m.\u001b[0m\u001b[0m_NotOkStatusException\u001b[0m \u001b[0;32mas\u001b[0m \u001b[0me\u001b[0m\u001b[0;34m:\u001b[0m\u001b[0;34m\u001b[0m\u001b[0;34m\u001b[0m\u001b[0m\n",
      "\u001b[0;31mKeyboardInterrupt\u001b[0m: "
     ]
    }
   ],
   "source": [
    "history, model = train_model(model, train_generator)"
   ]
  },
  {
   "cell_type": "code",
   "execution_count": 14,
   "id": "regular-substitute",
   "metadata": {},
   "outputs": [],
   "source": [
    "def make_predictions(model, test_generator, scalers):\n",
    "    preds = scalers['scaler_lap_time_remaining'].inverse_transform(model.predict(test_generator))\n",
    "    return preds\n",
    "\n",
    "model = tf.keras.models.load_model('generator_lstm.h5')\n",
    "pred = make_predictions(model, test_generator, scalers)"
   ]
  },
  {
   "cell_type": "code",
   "execution_count": 15,
   "id": "matched-separate",
   "metadata": {},
   "outputs": [],
   "source": [
    "\n",
    "test_Y['time_remaining_descaled'] = scalers['scaler_lap_time_remaining'].inverse_transform(test_Y['lap_time_remaining'].to_numpy().reshape(-1,1))"
   ]
  },
  {
   "cell_type": "code",
   "execution_count": 42,
   "id": "becoming-translator",
   "metadata": {},
   "outputs": [
    {
     "data": {
      "image/png": "[encoded data removed]",
      "text/plain": [
       "<Figure size 432x288 with 1 Axes>"
      ]
     },
     "metadata": {
      "needs_background": "light"
     },
     "output_type": "display_data"
    }
   ],
   "source": [
    "p = pred.T\n",
    "preds = []\n",
    "predictions_df = pd.DataFrame()\n",
    "l = 0\n",
    "i_prev = 0\n",
    "\n",
    "for i in range(10000, p.shape[1], 10000):\n",
    "    predictions_df[f'lap_{l}'] = p[0][i_prev:i]\n",
    "    i_prev = i\n",
    "    \n",
    "for i in p:\n",
    "    preds.append(pd.Series(np.concatenate([i, np.zeros(5)]))) \n",
    "\n",
    "\n",
    "    \n",
    "predictions=pd.concat(preds)\n",
    "\n",
    "predictions_df = pd.DataFrame()\n",
    "l = 0\n",
    "i_prev = 0\n",
    "\n",
    "\n",
    "for i in range(10000, len(predictions), 10000):\n",
    "    predictions_df[f'lap_{l}'] = predictions.to_list()[i_prev:i]\n",
    "    i_prev = i\n",
    "    l+=1\n",
    "\n",
    "test_Y['predictions'] = predictions\n",
    "    \n",
    "# display(predictions_df.head())\n",
    "\n",
    "err = test_Y['time_remaining_descaled'] - test_Y['predictions']\n",
    "err = err.to_list()\n",
    "\n",
    "i_prev = 0\n",
    "\n",
    "for i in range(10000, len(err), 10000):\n",
    "    plt.plot(err[i_prev:i-3000])\n",
    "    i_prev = i\n",
    "plt.show()\n",
    "\n",
    "for i in range(len(list(predictions_df.columns))):\n",
    "    lap = predictions_df[f'lap_{i}']\n",
    "    lap = lap[:7000]\n",
    "    predictions_df[f'lap_{i}'] = lap\n",
    " \n",
    "\n",
    "\n",
    "# predictions_df.plot()\n",
    "\n",
    "    \n"
   ]
  },
  {
   "cell_type": "code",
   "execution_count": 21,
   "id": "fatal-cemetery",
   "metadata": {},
   "outputs": [
    {
     "data": {
      "image/png": "[encoded data removed]",
      "text/plain": [
       "<Figure size 432x288 with 1 Axes>"
      ]
     },
     "metadata": {
      "needs_background": "light"
     },
     "output_type": "display_data"
    }
   ],
   "source": [
    "lap = 1\n",
    "labels = []\n",
    "i_prev = 0\n",
    "for i in range(10000, len(test_Y), 10000):\n",
    "    plt.plot(test_Y['predictions'].to_list()[i_prev:i])\n",
    "    labels.append(lap)\n",
    "    i_prev = i\n",
    "    lap+=1\n",
    "    \n",
    "plt.show()\n",
    "\n"
   ]
  },
  {
   "cell_type": "code",
   "execution_count": null,
   "id": "asian-justice",
   "metadata": {},
   "outputs": [],
   "source": []
  }
 ],
 "metadata": {
  "kernelspec": {
   "display_name": "Python 3.7 (tensorflow)",
   "language": "python",
   "name": "tensorflow"
  },
  "language_info": {
   "codemirror_mode": {
    "name": "ipython",
    "version": 3
   },
   "file_extension": ".py",
   "mimetype": "text/x-python",
   "name": "python",
   "nbconvert_exporter": "python",
   "pygments_lexer": "ipython3",
   "version": "3.8.8"
  }
 },
 "nbformat": 4,
 "nbformat_minor": 5
}
