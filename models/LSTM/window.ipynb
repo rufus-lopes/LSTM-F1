{
 "cells": [
  {
   "cell_type": "code",
   "execution_count": 1,
   "id": "dynamic-valuation",
   "metadata": {},
   "outputs": [],
   "source": [
    "import tensorflow as tf\n",
    "import numpy as np\n",
    "from sklearn.preprocessing import StandardScaler, MinMaxScaler\n",
    "import pandas as pd\n",
    "from sklearn.model_selection import train_test_split\n",
    "import sqlite3\n",
    "import pandas as pd\n",
    "from pathlib import Path\n",
    "import os\n",
    "from matplotlib import pyplot as plt\n",
    "from tensorflow.keras.models import Sequential\n",
    "from tensorflow.keras.layers import Dense, LSTM, Dropout, LeakyReLU, Masking\n",
    "from tensorflow.keras.callbacks import EarlyStopping, ModelCheckpoint\n",
    "from tensorflow.keras.layers import Bidirectional \n",
    "\n",
    "physical_devices = tf.config.list_physical_devices('GPU')\n",
    "\n",
    "tf.config.experimental.set_memory_growth(physical_devices[0], enable=True)\n",
    "\n"
   ]
  },
  {
   "cell_type": "code",
   "execution_count": 2,
   "id": "broadband-particle",
   "metadata": {},
   "outputs": [],
   "source": [
    "def training_data():\n",
    "\n",
    "    dir = '../../SQL_Data/constant_setup'\n",
    "    files = os.listdir(dir)\n",
    "    files = [f for f in files if f.endswith('.sqlite3')]\n",
    "\n",
    "    data = []\n",
    "    for f in files:\n",
    "        path = os.path.join(dir, f)\n",
    "        conn = sqlite3.connect(path)\n",
    "        if os.path.getsize(path) > 10000:\n",
    "            cur = conn.cursor()\n",
    "            cur.execute('SELECT * FROM TrainingData')\n",
    "            df = pd.DataFrame(cur.fetchall())\n",
    "            data.append(df)\n",
    "\n",
    "    names = list(map(lambda x: x[0], cur.description))\n",
    "    df = pd.concat(data)\n",
    "    df.columns = names\n",
    "    df = df.drop(['frameIdentifier','bestLapTime', 'pkt_id', 'packetId', 'SessionTime', 'finalLapTime'], axis=1)\n",
    "    df.set_index('index', inplace=True)\n",
    "\n",
    "    return df"
   ]
  },
  {
   "cell_type": "code",
   "execution_count": 3,
   "id": "graduate-brazilian",
   "metadata": {},
   "outputs": [],
   "source": [
    "def pad_data(training, target):\n",
    "    \n",
    "    max_timesteps = 10000 # max(training, key=len).shape[0]\n",
    "    num_rows_to_add = [max_timesteps-l.shape[0] for l in training]\n",
    "    training_pad = []\n",
    "    target_pad = []\n",
    "    print(f'max timesteps : {max_timesteps}')\n",
    "    \n",
    "    for i in range(len(training)):\n",
    "        rows_to_add = num_rows_to_add[i]\n",
    "\n",
    "        training_arr = training[i]\n",
    "        training_append = np.zeros((rows_to_add, training[0].shape[1]), dtype=float)\n",
    "        training_array = np.vstack((training_arr, training_append))\n",
    "        training_pad.append(training_array)\n",
    "\n",
    "        target_arr = target[i].reshape(target[i].shape[0])\n",
    "        target_append = np.zeros((rows_to_add), dtype=float)\n",
    "        target_array = np.concatenate([target_arr, np.zeros(rows_to_add)])\n",
    "        target_pad.append(target_array)\n",
    "    \n",
    "    return training_pad, target_pad"
   ]
  },
  {
   "cell_type": "code",
   "execution_count": 4,
   "id": "broke-timothy",
   "metadata": {},
   "outputs": [],
   "source": [
    "def scale_data(data):\n",
    "    scalers = {}\n",
    "    sessionUIDs = data.pop('sessionUID')\n",
    "    lap_number = data.pop('currentLapNum')\n",
    "    for i in data.columns:\n",
    "        scaler = MinMaxScaler()\n",
    "        s = scaler.fit_transform(data[i].values.reshape(-1,1))\n",
    "        s = np.reshape(s, len(s))\n",
    "        scalers['scaler_'+ i ] = scaler\n",
    "        data[i] = s\n",
    "\n",
    "    data['sessionUID'] = sessionUIDs\n",
    "    data['currentLapNum'] = lap_number\n",
    "    \n",
    "    return data, scalers"
   ]
  },
  {
   "cell_type": "code",
   "execution_count": 5,
   "id": "important-january",
   "metadata": {},
   "outputs": [],
   "source": [
    "def format_data(data):\n",
    "    '''\n",
    "\n",
    "    seperates data first by session, then by lap, before padding each array so that\n",
    "    they are all the same length for model input.\n",
    "    Performs test train split also\n",
    "\n",
    "    '''\n",
    "    data.reset_index(drop=True, inplace=True)\n",
    "\n",
    "    session_groups = data.groupby('sessionUID')\n",
    "    training_data = []\n",
    "    target_data = []\n",
    "    total_laps = 0\n",
    "    for s in list(session_groups.groups):\n",
    "        session = session_groups.get_group(s)\n",
    "        lap_groups = session.groupby('currentLapNum')\n",
    "        total_laps += len(lap_groups)\n",
    "        for l in list(lap_groups.groups):\n",
    "            lap = lap_groups.get_group(l)\n",
    "            lap = lap.drop(['sessionUID'], axis=1)\n",
    "            target_data.append(lap.pop('lap_time_remaining'))\n",
    "            training_data.append(lap)\n",
    "            \n",
    "    training = [x.to_numpy() for x in training_data]\n",
    "    target = [y.to_numpy() for y in target_data]\n",
    "    print(f'Total Laps: {total_laps}')\n",
    "\n",
    "    max_timesteps = 10000 # max(training, key=len).shape[0]\n",
    "    num_rows_to_add = [max_timesteps-l.shape[0] for l in training]\n",
    "\n",
    "    training_pad = []\n",
    "    target_pad = []\n",
    "    print(f'max timesteps : {max_timesteps}')\n",
    "\n",
    "    for i in range(len(training)):\n",
    "        rows_to_add = num_rows_to_add[i]\n",
    "\n",
    "        training_arr = training[i]\n",
    "        training_append = np.zeros((rows_to_add, training[0].shape[1]), dtype=float)\n",
    "        training_array = np.vstack((training_arr, training_append))\n",
    "        training_pad.append(training_array)\n",
    "\n",
    "        target_arr = target[i]\n",
    "        target_append = np.zeros((rows_to_add), dtype=float)\n",
    "        target_array = np.concatenate([target_arr, np.zeros(rows_to_add)])\n",
    "        target_pad.append(target_array)\n",
    "\n",
    "    split = int(total_laps*0.9)\n",
    "\n",
    "    X_train = training_pad[:split]\n",
    "    X_test = training_pad[split:]\n",
    "    y_train = target_pad[:split]\n",
    "    y_test = target_pad[split:]\n",
    "\n",
    "    X_train = np.array(X_train)\n",
    "    X_test = np.array(X_test)\n",
    "    y_test = np.array(y_test)\n",
    "    y_train = np.array(y_train)\n",
    "\n",
    "    print('Data Formatted')\n",
    "\n",
    "    return X_train, X_test, y_train, y_test"
   ]
  },
  {
   "cell_type": "code",
   "execution_count": 6,
   "id": "prescribed-combine",
   "metadata": {},
   "outputs": [],
   "source": [
    "def train_model(model, trainX, trainY):\n",
    "    ''' training the model'''\n",
    "    EPOCHS = 100\n",
    "    callback = [EarlyStopping(monitor=\"loss\", patience = 10, mode = 'auto', \n",
    "                restore_best_weights=True),\n",
    "                ModelCheckpoint('generator_lstm.h5')]\n",
    "    history = model.fit(trainX, trainY, callbacks=callback, shuffle=False, epochs=EPOCHS, batch_size=1)\n",
    "    return history, model"
   ]
  },
  {
   "cell_type": "code",
   "execution_count": 10,
   "id": "exposed-angle",
   "metadata": {},
   "outputs": [],
   "source": [
    "def build_model(trainX):\n",
    "\n",
    "    ''' buils model and prints out summary'''\n",
    "    \n",
    "    learning_rate = 0.001\n",
    "    units = 128\n",
    "    epochs = 100\n",
    "    from tensorflow.keras.models import Sequential\n",
    "    from tensorflow.keras.layers import Dense, LSTM, Dropout, LeakyReLU\n",
    "    from tensorflow.keras.callbacks import EarlyStopping\n",
    "\n",
    "    model = Sequential()\n",
    "    model.add(Bidirectional(LSTM(units, return_sequences=True, input_shape=(None, trainX.shape[2]) )))\n",
    "    model.add(LeakyReLU(alpha=0.5))\n",
    "    model.add(Dropout(0.1))\n",
    "    model.add(Bidirectional(LSTM(units, return_sequences=True)))\n",
    "    model.add(LeakyReLU(alpha=0.5))\n",
    "    model.add(Dropout(0.1))\n",
    "    model.add(Dense(1))\n",
    "\n",
    "    adam = tf.keras.optimizers.Adam(lr=learning_rate)\n",
    "\n",
    "    model.compile(optimizer=adam, loss='mse', metrics=['mae'])\n",
    "\n",
    "#     print(model.summary())\n",
    "\n",
    "    print('Model Built')\n",
    "\n",
    "    return model"
   ]
  },
  {
   "cell_type": "code",
   "execution_count": 8,
   "id": "stunning-clothing",
   "metadata": {},
   "outputs": [],
   "source": [
    "data = training_data()"
   ]
  },
  {
   "cell_type": "code",
   "execution_count": 11,
   "id": "tracked-bible",
   "metadata": {},
   "outputs": [
    {
     "name": "stdout",
     "output_type": "stream",
     "text": [
      "Total Laps: 224\n",
      "max timesteps : 10000\n",
      "Data Formatted\n",
      "Model Built\n"
     ]
    }
   ],
   "source": [
    "trainX, testX, trainY, testY = format_data(data)\n",
    "\n",
    "\n",
    "\n",
    "model = build_model(trainX)\n"
   ]
  },
  {
   "cell_type": "code",
   "execution_count": 12,
   "id": "liquid-programmer",
   "metadata": {},
   "outputs": [
    {
     "name": "stdout",
     "output_type": "stream",
     "text": [
      "(201, 10000, 47)\n",
      "Epoch 1/100\n",
      "201/201 [==============================] - 120s 577ms/step - loss: 1279.8293 - mae: 24.0060\n",
      "Epoch 2/100\n",
      "201/201 [==============================] - 116s 575ms/step - loss: 248.7210 - mae: 8.9244\n",
      "Epoch 3/100\n",
      "201/201 [==============================] - 117s 581ms/step - loss: 77.4478 - mae: 4.6516\n",
      "Epoch 4/100\n",
      "201/201 [==============================] - 115s 573ms/step - loss: 35.6113 - mae: 3.2143\n",
      "Epoch 5/100\n",
      "201/201 [==============================] - 115s 573ms/step - loss: 23.9205 - mae: 2.7802\n",
      "Epoch 6/100\n",
      "201/201 [==============================] - 115s 572ms/step - loss: 18.6964 - mae: 2.4890\n",
      "Epoch 7/100\n",
      "201/201 [==============================] - 115s 571ms/step - loss: 14.6855 - mae: 2.2484\n",
      "Epoch 8/100\n",
      "201/201 [==============================] - 115s 573ms/step - loss: 12.5341 - mae: 2.1272\n",
      "Epoch 9/100\n",
      "201/201 [==============================] - 114s 569ms/step - loss: 10.8629 - mae: 1.9699\n",
      "Epoch 10/100\n",
      "201/201 [==============================] - 114s 569ms/step - loss: 9.9684 - mae: 1.9088\n",
      "Epoch 11/100\n",
      "201/201 [==============================] - 114s 570ms/step - loss: 9.0279 - mae: 1.8427\n",
      "Epoch 12/100\n",
      "201/201 [==============================] - 114s 569ms/step - loss: 9.4753 - mae: 1.8981\n",
      "Epoch 13/100\n",
      "201/201 [==============================] - 114s 570ms/step - loss: 8.4152 - mae: 1.7848\n",
      "Epoch 14/100\n",
      "201/201 [==============================] - 115s 573ms/step - loss: 8.4236 - mae: 1.8004\n",
      "Epoch 15/100\n",
      "201/201 [==============================] - 116s 576ms/step - loss: 7.5813 - mae: 1.7152\n",
      "Epoch 16/100\n",
      "201/201 [==============================] - 115s 573ms/step - loss: 7.6351 - mae: 1.7345\n",
      "Epoch 17/100\n",
      "201/201 [==============================] - 116s 577ms/step - loss: 7.1344 - mae: 1.6846\n",
      "Epoch 18/100\n",
      "201/201 [==============================] - 116s 578ms/step - loss: 7.0655 - mae: 1.6796\n",
      "Epoch 19/100\n",
      "201/201 [==============================] - 116s 575ms/step - loss: 6.7546 - mae: 1.6477\n",
      "Epoch 20/100\n",
      "201/201 [==============================] - 115s 574ms/step - loss: 6.5642 - mae: 1.6292\n",
      "Epoch 21/100\n",
      "201/201 [==============================] - 116s 577ms/step - loss: 6.3639 - mae: 1.6202\n",
      "Epoch 22/100\n",
      "201/201 [==============================] - 116s 579ms/step - loss: 6.4739 - mae: 1.6254\n",
      "Epoch 23/100\n",
      "201/201 [==============================] - 116s 579ms/step - loss: 6.2551 - mae: 1.6106\n",
      "Epoch 24/100\n",
      "201/201 [==============================] - 116s 576ms/step - loss: 6.0158 - mae: 1.5843\n",
      "Epoch 25/100\n",
      "201/201 [==============================] - 116s 576ms/step - loss: 6.0136 - mae: 1.5925\n",
      "Epoch 26/100\n",
      "201/201 [==============================] - 116s 578ms/step - loss: 7.1154 - mae: 1.7354\n",
      "Epoch 27/100\n",
      "201/201 [==============================] - 116s 575ms/step - loss: 7.7534 - mae: 1.7813\n",
      "Epoch 28/100\n",
      "201/201 [==============================] - 117s 584ms/step - loss: 6.8272 - mae: 1.6957\n",
      "Epoch 29/100\n",
      "201/201 [==============================] - 116s 577ms/step - loss: 6.5045 - mae: 1.6599\n",
      "Epoch 30/100\n",
      "201/201 [==============================] - 115s 574ms/step - loss: 5.8244 - mae: 1.5851\n",
      "Epoch 31/100\n",
      "201/201 [==============================] - 117s 580ms/step - loss: 7.0469 - mae: 1.7161\n",
      "Epoch 32/100\n",
      "201/201 [==============================] - 116s 579ms/step - loss: 6.9344 - mae: 1.7321\n",
      "Epoch 33/100\n",
      "201/201 [==============================] - 116s 575ms/step - loss: 6.3294 - mae: 1.6404\n",
      "Epoch 34/100\n",
      "201/201 [==============================] - 116s 577ms/step - loss: 5.4739 - mae: 1.5259\n",
      "Epoch 35/100\n",
      "201/201 [==============================] - 116s 577ms/step - loss: 6.4787 - mae: 1.6567\n",
      "Epoch 36/100\n",
      "201/201 [==============================] - 115s 572ms/step - loss: 6.1520 - mae: 1.6243\n",
      "Epoch 37/100\n",
      "201/201 [==============================] - 115s 573ms/step - loss: 6.5641 - mae: 1.6760\n",
      "Epoch 38/100\n",
      "201/201 [==============================] - 115s 571ms/step - loss: 5.9570 - mae: 1.6133\n",
      "Epoch 39/100\n",
      "201/201 [==============================] - 115s 571ms/step - loss: 5.3011 - mae: 1.4995\n",
      "Epoch 40/100\n",
      "201/201 [==============================] - 116s 575ms/step - loss: 5.0864 - mae: 1.4827\n",
      "Epoch 41/100\n",
      "201/201 [==============================] - 117s 580ms/step - loss: 5.3953 - mae: 1.5339\n",
      "Epoch 42/100\n",
      "201/201 [==============================] - 116s 576ms/step - loss: 6.1972 - mae: 1.6000\n",
      "Epoch 43/100\n",
      "201/201 [==============================] - 117s 580ms/step - loss: 5.6767 - mae: 1.5519\n",
      "Epoch 44/100\n",
      "201/201 [==============================] - 116s 578ms/step - loss: 5.1456 - mae: 1.4826\n",
      "Epoch 45/100\n",
      "201/201 [==============================] - 117s 580ms/step - loss: 7.5133 - mae: 1.7709\n",
      "Epoch 46/100\n",
      "201/201 [==============================] - 116s 578ms/step - loss: 4.9835 - mae: 1.4551\n",
      "Epoch 47/100\n",
      "201/201 [==============================] - 117s 582ms/step - loss: 6.1252 - mae: 1.5748\n",
      "Epoch 48/100\n",
      "201/201 [==============================] - 117s 583ms/step - loss: 8.0846 - mae: 1.7947\n",
      "Epoch 49/100\n",
      "201/201 [==============================] - 117s 582ms/step - loss: 6.2812 - mae: 1.6134\n",
      "Epoch 50/100\n",
      "201/201 [==============================] - 116s 576ms/step - loss: 5.8388 - mae: 1.5746\n"
     ]
    }
   ],
   "source": [
    "print(trainX.shape)\n",
    "\n",
    "history, model = train_model(model, trainX, trainY)"
   ]
  },
  {
   "cell_type": "code",
   "execution_count": 13,
   "id": "developmental-chorus",
   "metadata": {},
   "outputs": [
    {
     "name": "stdout",
     "output_type": "stream",
     "text": [
      "(23, 10000, 1)\n"
     ]
    }
   ],
   "source": [
    "predictions = model.predict(testX)\n",
    "print(predictions.shape)"
   ]
  },
  {
   "cell_type": "code",
   "execution_count": 31,
   "id": "educated-breach",
   "metadata": {},
   "outputs": [
    {
     "name": "stdout",
     "output_type": "stream",
     "text": [
      "<class 'pandas.core.frame.DataFrame'>\n",
      "Int64Index: 230000 entries, 0 to 9999\n",
      "Data columns (total 49 columns):\n",
      " #   Column                     Non-Null Count   Dtype  \n",
      "---  ------                     --------------   -----  \n",
      " 0   lastLapTime                230000 non-null  float64\n",
      " 1   currentLapTime             230000 non-null  float64\n",
      " 2   currentLapNum              230000 non-null  float64\n",
      " 3   lapDistance                230000 non-null  float64\n",
      " 4   carPosition                230000 non-null  float64\n",
      " 5   sector                     230000 non-null  float64\n",
      " 6   worldPositionX             230000 non-null  float64\n",
      " 7   worldPositionY             230000 non-null  float64\n",
      " 8   worldPositionZ             230000 non-null  float64\n",
      " 9   worldVelocityX             230000 non-null  float64\n",
      " 10  worldVelocityY             230000 non-null  float64\n",
      " 11  worldVelocityZ             230000 non-null  float64\n",
      " 12  yaw                        230000 non-null  float64\n",
      " 13  pitch                      230000 non-null  float64\n",
      " 14  roll                       230000 non-null  float64\n",
      " 15  speed                      230000 non-null  float64\n",
      " 16  throttle                   230000 non-null  float64\n",
      " 17  steer                      230000 non-null  float64\n",
      " 18  brake                      230000 non-null  float64\n",
      " 19  clutch                     230000 non-null  float64\n",
      " 20  gear                       230000 non-null  float64\n",
      " 21  engineRPM                  230000 non-null  float64\n",
      " 22  drs                        230000 non-null  float64\n",
      " 23  brakesTemperatureRL        230000 non-null  float64\n",
      " 24  brakesTemperatureRR        230000 non-null  float64\n",
      " 25  brakesTemperatureFL        230000 non-null  float64\n",
      " 26  brakesTemperatureFR        230000 non-null  float64\n",
      " 27  tyresSurfaceTemperatureRL  230000 non-null  float64\n",
      " 28  tyresSurfaceTemperatureRR  230000 non-null  float64\n",
      " 29  tyresSurfaceTemperatureFL  230000 non-null  float64\n",
      " 30  tyresSurfaceTemperatureFR  230000 non-null  float64\n",
      " 31  engineTemperature          230000 non-null  float64\n",
      " 32  fuelMix                    230000 non-null  float64\n",
      " 33  FrontBrakeBias             230000 non-null  float64\n",
      " 34  fuelInTank                 230000 non-null  float64\n",
      " 35  fuelRemainingLaps          230000 non-null  float64\n",
      " 36  tyresWearRL                230000 non-null  float64\n",
      " 37  tyresWearRR                230000 non-null  float64\n",
      " 38  tyresWearFL                230000 non-null  float64\n",
      " 39  tyresWearFR                230000 non-null  float64\n",
      " 40  actualTyreCompound         230000 non-null  float64\n",
      " 41  tyresAgeLaps               230000 non-null  float64\n",
      " 42  frontLeftWingDamage        230000 non-null  float64\n",
      " 43  frontRightWingDamage       230000 non-null  float64\n",
      " 44  rearWingDamage             230000 non-null  float64\n",
      " 45  gearBoxDamage              230000 non-null  float64\n",
      " 46  engineDamage               230000 non-null  float64\n",
      " 47  predictions                230000 non-null  float32\n",
      " 48  residuals                  230000 non-null  float64\n",
      "dtypes: float32(1), float64(48)\n",
      "memory usage: 86.9 MB\n",
      "None\n"
     ]
    }
   ],
   "source": [
    "def plot_residuals(testX, testY, pred, data):\n",
    "    residuals = []\n",
    "    predictions = pred.reshape(pred.shape[0], pred.shape[1])\n",
    "#   d = data.drop(['sessionUID', 'lap_time_remaining'], axis=1, inplace=True)\n",
    "    names = data.columns\n",
    "    err = testY-predictions\n",
    "    for i in range(len(predictions)):\n",
    "        test_X = pd.DataFrame(testX[i], columns = names)\n",
    "        test_X['predictions'] = predictions[i]\n",
    "        test_X['residuals'] = err[i] \n",
    "        residuals.append(pd.DataFrame(test_X))\n",
    "    final = pd.concat(residuals)\n",
    "    return final\n",
    "test_dataframe = plot_residuals(testX, testY, predictions, data)\n",
    "print(test_dataframe.info())"
   ]
  },
  {
   "cell_type": "code",
   "execution_count": 41,
   "id": "hydraulic-terminology",
   "metadata": {},
   "outputs": [
    {
     "data": {
      "image/png": "[encoded data removed]",
      "text/plain": [
       "<Figure size 432x288 with 1 Axes>"
      ]
     },
     "metadata": {
      "needs_background": "light"
     },
     "output_type": "display_data"
    }
   ],
   "source": [
    "x = test_dataframe['currentLapTime']\n",
    "y = test_dataframe['residuals']\n",
    "test_dataframe.to_csv('window_LSTM_predictions.csv')\n",
    "plt.scatter(x,y, s=0.05, c=y)\n",
    "plt.show()"
   ]
  },
  {
   "cell_type": "code",
   "execution_count": 43,
   "id": "unavailable-little",
   "metadata": {},
   "outputs": [
    {
     "data": {
      "image/png": "[encoded data removed]",
      "text/plain": [
       "<Figure size 432x288 with 1 Axes>"
      ]
     },
     "metadata": {
      "needs_background": "light"
     },
     "output_type": "display_data"
    }
   ],
   "source": [
    "x = test_dataframe['currentLapTime']\n",
    "y = test_dataframe['predictions']\n",
    "plt.scatter(x,y, s=0.05,)\n",
    "plt.show()"
   ]
  },
  {
   "cell_type": "code",
   "execution_count": null,
   "id": "reverse-strain",
   "metadata": {},
   "outputs": [],
   "source": [
    "pred = predictions.reshape(predictions.shape[0],predictions.shape[1])\n",
    "print(pred.shape)"
   ]
  },
  {
   "cell_type": "code",
   "execution_count": null,
   "id": "knowing-trinity",
   "metadata": {},
   "outputs": [],
   "source": [
    "print(testY.shape)\n",
    "from IPython.core.pylabtools import figsize\n",
    "\n",
    "err = pred-testY\n",
    "plt.figure(figsize(15,12))\n",
    "\n",
    "for i in pred:\n",
    "    plt.plot(i)\n",
    "    \n",
    "plt.show()"
   ]
  },
  {
   "cell_type": "code",
   "execution_count": null,
   "id": "sunset-nation",
   "metadata": {},
   "outputs": [],
   "source": [
    "plt.figure(figsize(15,12))\n",
    "\n",
    "for i in err:\n",
    "    plt.plot(i)\n",
    "    \n",
    "plt.show()"
   ]
  },
  {
   "cell_type": "code",
   "execution_count": null,
   "id": "freelance-nashville",
   "metadata": {},
   "outputs": [],
   "source": [
    "# pred = predictions.reshape(predictions.shape[0],predictions.shape[1])\n",
    "# pred = pred.T\n",
    "# predictions_df = pd.DataFrame(pred)\n",
    "print(pred[0].shape)\n",
    "X_test_0_df = pd.DataFrame(X_test[1])\n",
    "data_cols = data.columns\n",
    "cols = data_cols.drop(['sessionUID','lap_time_remaining'])\n",
    "X_test_0_df.columns = cols\n",
    "X_test_0_df['predictions'] = pred[1]\n",
    "X_test_0_df['true'] = y_test[1]\n",
    "X_test_0_df.head()\n",
    "\n",
    "x1 = X_test_0_df['predictions'] \n",
    "x2 = X_test_0_df['true'] \n",
    "x3 = X_test_0_df['sector']\n",
    "x4 = x2-x1\n",
    "\n",
    "# plt.plot(x1)\n",
    "# plt.plot(x2)\n",
    "plt.plot(x4)\n",
    "plt.show()"
   ]
  },
  {
   "cell_type": "code",
   "execution_count": null,
   "id": "integrated-nurse",
   "metadata": {},
   "outputs": [],
   "source": [
    "%matplotlib inline\n",
    "from IPython.core.pylabtools import figsize\n",
    "\n",
    "p = pred\n",
    "y = y_test-p\n",
    "labels=[]\n",
    "plt.figure(figsize(15,12))\n",
    "for i in range(len(y)):\n",
    "    x = x_test[i]\n",
    "    plt.scatter(x = x[:, 1], y=y[i], s=2)\n",
    "    labels.append(i)\n",
    "\n",
    "plt.title('Estimation Error Throughout Lap')\n",
    "plt.xlabel('Lap Time')\n",
    "plt.ylabel('Error (s)')\n",
    "plt.legend(labels, loc='upper right')\n",
    "plt.savefig(\"diff.svg\")\n",
    "plt.show()\n",
    "\n"
   ]
  },
  {
   "cell_type": "code",
   "execution_count": null,
   "id": "distributed-saying",
   "metadata": {},
   "outputs": [],
   "source": [
    "plt.plot(history.history['loss'])\n",
    "plt.title('Model loss')\n",
    "plt.ylabel('loss')\n",
    "plt.xlabel('epoch')\n",
    "plt.legend(['loss',], loc='upper left')\n",
    "plt.show()"
   ]
  },
  {
   "cell_type": "code",
   "execution_count": null,
   "id": "spoken-attempt",
   "metadata": {},
   "outputs": [],
   "source": [
    "err = []\n",
    "from sklearn.metrics import mean_absolute_error as mae\n",
    "for i in range(len(predictions)): \n",
    "    pred_lap = predictions[i]\n",
    "    true_lap = testY[i]\n",
    "    err.append(mae(true_lap, pred_lap))\n",
    "\n",
    "print(f'mean error is {np.mean(err)}')"
   ]
  },
  {
   "cell_type": "code",
   "execution_count": null,
   "id": "individual-sense",
   "metadata": {},
   "outputs": [],
   "source": [
    "\n",
    "for i in range(len(pred)): \n",
    "    plt.plot(pred[i])\n",
    "plt.savefig('predictions.svg')\n",
    "plt.show()"
   ]
  },
  {
   "cell_type": "code",
   "execution_count": null,
   "id": "naughty-strength",
   "metadata": {},
   "outputs": [],
   "source": [
    "df = pd.DataFrame(y.T)\n",
    "df.info()\n"
   ]
  },
  {
   "cell_type": "code",
   "execution_count": null,
   "id": "early-navigation",
   "metadata": {},
   "outputs": [],
   "source": [
    "df['mean'] = df.mean(axis=1)\n",
    "df['std'] = df.std(axis=1)\n",
    "df['pos_std'] = df['mean']+df['std']\n",
    "df['neg_std'] = df['mean']-df['std']\n",
    "\n",
    "fig, ax = plt.subplots()\n",
    "\n",
    "ax.plot(df['mean'])\n",
    "ax.fill_between(df.index, df['pos_std'], df['neg_std'], alpha=0.2)"
   ]
  },
  {
   "cell_type": "code",
   "execution_count": null,
   "id": "congressional-boxing",
   "metadata": {},
   "outputs": [],
   "source": []
  }
 ],
 "metadata": {
  "kernelspec": {
   "display_name": "Python 3.7 (tensorflow)",
   "language": "python",
   "name": "tensorflow"
  },
  "language_info": {
   "codemirror_mode": {
    "name": "ipython",
    "version": 3
   },
   "file_extension": ".py",
   "mimetype": "text/x-python",
   "name": "python",
   "nbconvert_exporter": "python",
   "pygments_lexer": "ipython3",
   "version": "3.8.8"
  }
 },
 "nbformat": 4,
 "nbformat_minor": 5
}
