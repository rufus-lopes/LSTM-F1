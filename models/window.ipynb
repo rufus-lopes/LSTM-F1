{
 "cells": [
  {
   "cell_type": "code",
   "execution_count": 2,
   "id": "dynamic-valuation",
   "metadata": {},
   "outputs": [],
   "source": [
    "import tensorflow as tf\n",
    "from tensorflow import keras\n",
    "from tensorflow.keras import layers\n",
    "from sklearn.metrics import mean_absolute_error as mae\n",
    "from sklearn.model_selection import train_test_split\n",
    "import numpy as np\n",
    "import os\n",
    "from matplotlib import pyplot as plt\n",
    "import time\n",
    "import sqlite3\n",
    "import pandas as pd\n",
    "from pathlib import Path\n",
    "import os\n",
    "from sklearn.preprocessing import StandardScaler\n",
    "\n"
   ]
  },
  {
   "cell_type": "code",
   "execution_count": 3,
   "id": "broadband-particle",
   "metadata": {},
   "outputs": [],
   "source": [
    "def training_data():\n",
    "\n",
    "    dir = '../SQL_Data/constant_setup'\n",
    "    files = os.listdir(dir)\n",
    "    files = [f for f in files if f.endswith('.sqlite3')]\n",
    "\n",
    "    data = []\n",
    "    for f in files:\n",
    "        path = os.path.join(dir, f)\n",
    "        conn = sqlite3.connect(path)\n",
    "        if os.path.getsize(path) > 10000:\n",
    "            cur = conn.cursor()\n",
    "            cur.execute('SELECT * FROM TrainingData')\n",
    "            df = pd.DataFrame(cur.fetchall())\n",
    "            data.append(df)\n",
    "\n",
    "    names = list(map(lambda x: x[0], cur.description))\n",
    "    df = pd.concat(data)\n",
    "    df.columns = names\n",
    "    df = df.drop(['frameIdentifier','bestLapTime', 'pkt_id', 'packetId', 'SessionTime', 'finalLapTime'], axis=1)\n",
    "    df.set_index('index', inplace=True)\n",
    "\n",
    "    return df"
   ]
  },
  {
   "cell_type": "code",
   "execution_count": 4,
   "id": "purple-latex",
   "metadata": {},
   "outputs": [],
   "source": [
    "physical_devices = tf.config.list_physical_devices('GPU')\n",
    "\n",
    "tf.config.experimental.set_memory_growth(physical_devices[0], enable=True)\n",
    "\n"
   ]
  },
  {
   "cell_type": "code",
   "execution_count": 5,
   "id": "stunning-clothing",
   "metadata": {},
   "outputs": [],
   "source": [
    "data = training_data()\n"
   ]
  },
  {
   "cell_type": "code",
   "execution_count": 6,
   "id": "saving-friday",
   "metadata": {},
   "outputs": [
    {
     "name": "stdout",
     "output_type": "stream",
     "text": [
      "<class 'pandas.core.frame.DataFrame'>\n",
      "Int64Index: 720333 entries, 0 to 96921\n",
      "Data columns (total 48 columns):\n",
      " #   Column                     Non-Null Count   Dtype  \n",
      "---  ------                     --------------   -----  \n",
      " 0   lastLapTime                720333 non-null  float64\n",
      " 1   currentLapTime             720333 non-null  float64\n",
      " 2   currentLapNum              720333 non-null  int64  \n",
      " 3   lapDistance                720333 non-null  float64\n",
      " 4   carPosition                720333 non-null  int64  \n",
      " 5   sessionUID                 720333 non-null  object \n",
      " 6   worldPositionX             720333 non-null  float64\n",
      " 7   worldPositionY             720333 non-null  float64\n",
      " 8   worldPositionZ             720333 non-null  float64\n",
      " 9   worldVelocityX             720333 non-null  float64\n",
      " 10  worldVelocityY             720333 non-null  float64\n",
      " 11  worldVelocityZ             720333 non-null  float64\n",
      " 12  yaw                        720333 non-null  float64\n",
      " 13  pitch                      720333 non-null  float64\n",
      " 14  roll                       720333 non-null  float64\n",
      " 15  speed                      720333 non-null  int64  \n",
      " 16  throttle                   720333 non-null  float64\n",
      " 17  steer                      720333 non-null  float64\n",
      " 18  brake                      720333 non-null  float64\n",
      " 19  clutch                     720333 non-null  int64  \n",
      " 20  gear                       720333 non-null  int64  \n",
      " 21  engineRPM                  720333 non-null  int64  \n",
      " 22  drs                        720333 non-null  int64  \n",
      " 23  brakesTemperatureRL        720333 non-null  int64  \n",
      " 24  brakesTemperatureRR        720333 non-null  int64  \n",
      " 25  brakesTemperatureFL        720333 non-null  int64  \n",
      " 26  brakesTemperatureFR        720333 non-null  int64  \n",
      " 27  tyresSurfaceTemperatureRL  720333 non-null  int64  \n",
      " 28  tyresSurfaceTemperatureRR  720333 non-null  int64  \n",
      " 29  tyresSurfaceTemperatureFL  720333 non-null  int64  \n",
      " 30  tyresSurfaceTemperatureFR  720333 non-null  int64  \n",
      " 31  engineTemperature          720333 non-null  int64  \n",
      " 32  fuelMix                    720333 non-null  int64  \n",
      " 33  FrontBrakeBias             720333 non-null  int64  \n",
      " 34  fuelInTank                 720333 non-null  float64\n",
      " 35  fuelRemainingLaps          720333 non-null  float64\n",
      " 36  tyresWearRL                720333 non-null  int64  \n",
      " 37  tyresWearRR                720333 non-null  int64  \n",
      " 38  tyresWearFL                720333 non-null  int64  \n",
      " 39  tyresWearFR                720333 non-null  int64  \n",
      " 40  actualTyreCompound         720333 non-null  int64  \n",
      " 41  tyresAgeLaps               720333 non-null  int64  \n",
      " 42  frontLeftWingDamage        720333 non-null  int64  \n",
      " 43  frontRightWingDamage       720333 non-null  int64  \n",
      " 44  rearWingDamage             720333 non-null  int64  \n",
      " 45  gearBoxDamage              720333 non-null  int64  \n",
      " 46  engineDamage               720333 non-null  int64  \n",
      " 47  lap_time_remaining         720333 non-null  float64\n",
      "dtypes: float64(18), int64(29), object(1)\n",
      "memory usage: 269.3+ MB\n"
     ]
    }
   ],
   "source": [
    "data.info()"
   ]
  },
  {
   "cell_type": "code",
   "execution_count": 7,
   "id": "photographic-event",
   "metadata": {},
   "outputs": [],
   "source": [
    "session_groups = data.groupby('sessionUID')\n",
    "training_data = []\n",
    "target_data = []\n",
    "for s in list(session_groups.groups):\n",
    "    session = session_groups.get_group(s)\n",
    "    lap_groups = session.groupby('currentLapNum')\n",
    "    for l in list(lap_groups.groups):\n",
    "        lap = lap_groups.get_group(l)\n",
    "        lap = lap.drop('sessionUID', axis=1)\n",
    "        target_data.append(lap.pop('lap_time_remaining'))\n",
    "        training_data.append(lap)"
   ]
  },
  {
   "cell_type": "code",
   "execution_count": 21,
   "id": "american-waste",
   "metadata": {},
   "outputs": [],
   "source": [
    "training = [x.to_numpy() for x in training_data]\n",
    "target = [y.to_numpy() for y in target_data]\n"
   ]
  },
  {
   "cell_type": "code",
   "execution_count": 57,
   "id": "twelve-estimate",
   "metadata": {},
   "outputs": [
    {
     "name": "stdout",
     "output_type": "stream",
     "text": [
      "max timesteps : 8977\n"
     ]
    }
   ],
   "source": [
    "max_timesteps = max(training, key=len).shape[0]\n",
    "num_rows_to_add = [max_timesteps-l.shape[0] for l in training]\n",
    "\n",
    "training_pad = []\n",
    "target_pad = []\n",
    "print(f'max timesteps : {max_timesteps}')\n",
    "\n",
    "for i in range(len(training)):\n",
    "    rows_to_add = num_rows_to_add[i]\n",
    "    \n",
    "    training_arr = training[i]\n",
    "    training_append = np.zeros((rows_to_add, training[0].shape[1]), dtype=float)\n",
    "    training_array = np.vstack((training_arr, training_append))\n",
    "    training_pad.append(training_array)\n",
    "\n",
    "    target_arr = target[i]\n",
    "    target_append = np.zeros((rows_to_add), dtype=float)\n",
    "    target_array = np.concatenate([target_arr, np.zeros(rows_to_add)])\n",
    "    target_pad.append(target_array)\n",
    " \n",
    "\n"
   ]
  },
  {
   "cell_type": "code",
   "execution_count": 62,
   "id": "occasional-affairs",
   "metadata": {},
   "outputs": [],
   "source": [
    "X_train = training_pad[:70]\n",
    "X_test = training_pad[70:]\n",
    "y_train = target_pad[:70]\n",
    "y_test = target_pad[70:]\n",
    "\n"
   ]
  },
  {
   "cell_type": "code",
   "execution_count": 113,
   "id": "formal-station",
   "metadata": {},
   "outputs": [
    {
     "name": "stdout",
     "output_type": "stream",
     "text": [
      "46\n"
     ]
    }
   ],
   "source": [
    "num_series = 70\n",
    "timesteps = X_train[0].shape[0]\n",
    "features = X_train[0].shape[1]\n",
    "print(features)"
   ]
  },
  {
   "cell_type": "code",
   "execution_count": 114,
   "id": "pending-simpson",
   "metadata": {},
   "outputs": [
    {
     "name": "stdout",
     "output_type": "stream",
     "text": [
      "Model: \"sequential_8\"\n",
      "_________________________________________________________________\n",
      "Layer (type)                 Output Shape              Param #   \n",
      "=================================================================\n",
      "lstm_13 (LSTM)               (None, 8977, 300)         416400    \n",
      "_________________________________________________________________\n",
      "lstm_14 (LSTM)               (None, 8977, 300)         721200    \n",
      "_________________________________________________________________\n",
      "lstm_15 (LSTM)               (None, 8977, 300)         721200    \n",
      "_________________________________________________________________\n",
      "dense_6 (Dense)              (None, 8977, 1)           301       \n",
      "=================================================================\n",
      "Total params: 1,859,101\n",
      "Trainable params: 1,859,101\n",
      "Non-trainable params: 0\n",
      "_________________________________________________________________\n",
      "None\n"
     ]
    }
   ],
   "source": [
    "model = keras.Sequential()\n",
    "model.add(layers.LSTM(300, input_shape = X_train[0].shape, return_sequences=True))\n",
    "model.add(layers.LSTM(300, return_sequences=True))\n",
    "model.add(layers.LSTM(300, return_sequences=True))\n",
    "model.add(layers.Dense(1))\n",
    "\n",
    "print(model.summary())\n"
   ]
  },
  {
   "cell_type": "code",
   "execution_count": 115,
   "id": "incident-collection",
   "metadata": {},
   "outputs": [],
   "source": [
    "optimiser = tf.keras.optimizers.RMSprop(learning_rate=0.001,\n",
    "                                        rho=0.9, momentum=0.0, epsilon=1e-07, centered=False, name='RMSprop')\n",
    "\n",
    "model.compile(\n",
    "loss = 'mean_squared_error',\n",
    "optimizer=optimiser,\n",
    ")"
   ]
  },
  {
   "cell_type": "code",
   "execution_count": 116,
   "id": "social-sculpture",
   "metadata": {},
   "outputs": [
    {
     "name": "stdout",
     "output_type": "stream",
     "text": [
      "(70, 8977, 46)\n",
      "Epoch 1/100\n",
      "70/70 [==============================] - 71s 1s/step - loss: 955.2350\n",
      "Epoch 2/100\n",
      "70/70 [==============================] - 71s 1s/step - loss: 382.2125\n",
      "Epoch 3/100\n",
      "70/70 [==============================] - 71s 1s/step - loss: 146.4413\n",
      "Epoch 4/100\n",
      "70/70 [==============================] - 71s 1s/step - loss: 68.6864\n",
      "Epoch 5/100\n",
      "70/70 [==============================] - 71s 1s/step - loss: 38.9627\n",
      "Epoch 6/100\n",
      "70/70 [==============================] - 71s 1s/step - loss: 30.6708\n",
      "Epoch 7/100\n",
      "70/70 [==============================] - 71s 1s/step - loss: 25.7238\n",
      "Epoch 8/100\n",
      "70/70 [==============================] - 71s 1s/step - loss: 17.3522\n",
      "Epoch 9/100\n",
      "70/70 [==============================] - 71s 1s/step - loss: 19.8448\n",
      "Epoch 10/100\n",
      "70/70 [==============================] - 71s 1s/step - loss: 16.6546\n",
      "Epoch 11/100\n",
      "70/70 [==============================] - 71s 1s/step - loss: 17.9949\n",
      "Epoch 12/100\n",
      "70/70 [==============================] - 71s 1s/step - loss: 15.1141\n",
      "Epoch 13/100\n",
      "70/70 [==============================] - 73s 1s/step - loss: 16.9924\n",
      "Epoch 14/100\n",
      "70/70 [==============================] - 73s 1s/step - loss: 14.5348\n",
      "Epoch 15/100\n",
      "70/70 [==============================] - 73s 1s/step - loss: 14.1059\n",
      "Epoch 16/100\n",
      "70/70 [==============================] - 73s 1s/step - loss: 12.6349\n",
      "Epoch 17/100\n",
      "70/70 [==============================] - 72s 1s/step - loss: 11.9298\n",
      "Epoch 18/100\n",
      "70/70 [==============================] - 71s 1s/step - loss: 13.7274\n",
      "Epoch 19/100\n",
      "70/70 [==============================] - 71s 1s/step - loss: 12.1180\n",
      "Epoch 20/100\n",
      "70/70 [==============================] - 71s 1s/step - loss: 10.7606\n",
      "Epoch 21/100\n",
      "70/70 [==============================] - 71s 1s/step - loss: 10.9756\n",
      "Epoch 22/100\n",
      "70/70 [==============================] - 71s 1s/step - loss: 9.7669\n",
      "Epoch 23/100\n",
      "70/70 [==============================] - 71s 1s/step - loss: 9.9711\n",
      "Epoch 24/100\n",
      "70/70 [==============================] - 71s 1s/step - loss: 10.8908\n",
      "Epoch 25/100\n",
      "70/70 [==============================] - 71s 1s/step - loss: 9.8399\n",
      "Epoch 26/100\n",
      "70/70 [==============================] - 71s 1s/step - loss: 10.5460\n",
      "Epoch 27/100\n",
      "70/70 [==============================] - 71s 1s/step - loss: 14.2297\n",
      "Epoch 28/100\n",
      "70/70 [==============================] - 71s 1s/step - loss: 11.4560\n",
      "Epoch 29/100\n",
      "70/70 [==============================] - 71s 1s/step - loss: 10.3106\n",
      "Epoch 30/100\n",
      "70/70 [==============================] - 71s 1s/step - loss: 9.2863\n",
      "Epoch 31/100\n",
      "70/70 [==============================] - 71s 1s/step - loss: 9.5183\n",
      "Epoch 32/100\n",
      "70/70 [==============================] - 71s 1s/step - loss: 9.4690\n",
      "Epoch 33/100\n",
      "70/70 [==============================] - 71s 1s/step - loss: 8.4608\n",
      "Epoch 34/100\n",
      "35/70 [==============>...............] - ETA: 35s - loss: 18.5707"
     ]
    },
    {
     "ename": "KeyboardInterrupt",
     "evalue": "",
     "output_type": "error",
     "traceback": [
      "\u001b[0;31m---------------------------------------------------------------------------\u001b[0m",
      "\u001b[0;31mKeyboardInterrupt\u001b[0m                         Traceback (most recent call last)",
      "\u001b[0;32m<ipython-input-116-8e4c7983dc61>\u001b[0m in \u001b[0;36m<module>\u001b[0;34m\u001b[0m\n\u001b[1;32m      2\u001b[0m \u001b[0my\u001b[0m \u001b[0;34m=\u001b[0m \u001b[0mnp\u001b[0m\u001b[0;34m.\u001b[0m\u001b[0marray\u001b[0m\u001b[0;34m(\u001b[0m\u001b[0my_train\u001b[0m\u001b[0;34m)\u001b[0m\u001b[0;34m\u001b[0m\u001b[0;34m\u001b[0m\u001b[0m\n\u001b[1;32m      3\u001b[0m \u001b[0mprint\u001b[0m\u001b[0;34m(\u001b[0m\u001b[0mX\u001b[0m\u001b[0;34m.\u001b[0m\u001b[0mshape\u001b[0m\u001b[0;34m)\u001b[0m\u001b[0;34m\u001b[0m\u001b[0;34m\u001b[0m\u001b[0m\n\u001b[0;32m----> 4\u001b[0;31m \u001b[0mhistory\u001b[0m \u001b[0;34m=\u001b[0m \u001b[0mmodel\u001b[0m\u001b[0;34m.\u001b[0m\u001b[0mfit\u001b[0m\u001b[0;34m(\u001b[0m\u001b[0mx\u001b[0m\u001b[0;34m=\u001b[0m\u001b[0mX\u001b[0m\u001b[0;34m,\u001b[0m \u001b[0my\u001b[0m \u001b[0;34m=\u001b[0m \u001b[0my\u001b[0m\u001b[0;34m,\u001b[0m \u001b[0mepochs\u001b[0m\u001b[0;34m=\u001b[0m\u001b[0;36m100\u001b[0m\u001b[0;34m,\u001b[0m \u001b[0mbatch_size\u001b[0m\u001b[0;34m=\u001b[0m\u001b[0;36m1\u001b[0m\u001b[0;34m)\u001b[0m\u001b[0;34m\u001b[0m\u001b[0;34m\u001b[0m\u001b[0m\n\u001b[0m",
      "\u001b[0;32m~/miniconda3/envs/tensorflow/lib/python3.8/site-packages/tensorflow/python/keras/engine/training.py\u001b[0m in \u001b[0;36m_method_wrapper\u001b[0;34m(self, *args, **kwargs)\u001b[0m\n\u001b[1;32m     64\u001b[0m   \u001b[0;32mdef\u001b[0m \u001b[0m_method_wrapper\u001b[0m\u001b[0;34m(\u001b[0m\u001b[0mself\u001b[0m\u001b[0;34m,\u001b[0m \u001b[0;34m*\u001b[0m\u001b[0margs\u001b[0m\u001b[0;34m,\u001b[0m \u001b[0;34m**\u001b[0m\u001b[0mkwargs\u001b[0m\u001b[0;34m)\u001b[0m\u001b[0;34m:\u001b[0m\u001b[0;34m\u001b[0m\u001b[0;34m\u001b[0m\u001b[0m\n\u001b[1;32m     65\u001b[0m     \u001b[0;32mif\u001b[0m \u001b[0;32mnot\u001b[0m \u001b[0mself\u001b[0m\u001b[0;34m.\u001b[0m\u001b[0m_in_multi_worker_mode\u001b[0m\u001b[0;34m(\u001b[0m\u001b[0;34m)\u001b[0m\u001b[0;34m:\u001b[0m  \u001b[0;31m# pylint: disable=protected-access\u001b[0m\u001b[0;34m\u001b[0m\u001b[0;34m\u001b[0m\u001b[0m\n\u001b[0;32m---> 66\u001b[0;31m       \u001b[0;32mreturn\u001b[0m \u001b[0mmethod\u001b[0m\u001b[0;34m(\u001b[0m\u001b[0mself\u001b[0m\u001b[0;34m,\u001b[0m \u001b[0;34m*\u001b[0m\u001b[0margs\u001b[0m\u001b[0;34m,\u001b[0m \u001b[0;34m**\u001b[0m\u001b[0mkwargs\u001b[0m\u001b[0;34m)\u001b[0m\u001b[0;34m\u001b[0m\u001b[0;34m\u001b[0m\u001b[0m\n\u001b[0m\u001b[1;32m     67\u001b[0m \u001b[0;34m\u001b[0m\u001b[0m\n\u001b[1;32m     68\u001b[0m     \u001b[0;31m# Running inside `run_distribute_coordinator` already.\u001b[0m\u001b[0;34m\u001b[0m\u001b[0;34m\u001b[0m\u001b[0;34m\u001b[0m\u001b[0m\n",
      "\u001b[0;32m~/miniconda3/envs/tensorflow/lib/python3.8/site-packages/tensorflow/python/keras/engine/training.py\u001b[0m in \u001b[0;36mfit\u001b[0;34m(self, x, y, batch_size, epochs, verbose, callbacks, validation_split, validation_data, shuffle, class_weight, sample_weight, initial_epoch, steps_per_epoch, validation_steps, validation_batch_size, validation_freq, max_queue_size, workers, use_multiprocessing)\u001b[0m\n\u001b[1;32m    846\u001b[0m                 batch_size=batch_size):\n\u001b[1;32m    847\u001b[0m               \u001b[0mcallbacks\u001b[0m\u001b[0;34m.\u001b[0m\u001b[0mon_train_batch_begin\u001b[0m\u001b[0;34m(\u001b[0m\u001b[0mstep\u001b[0m\u001b[0;34m)\u001b[0m\u001b[0;34m\u001b[0m\u001b[0;34m\u001b[0m\u001b[0m\n\u001b[0;32m--> 848\u001b[0;31m               \u001b[0mtmp_logs\u001b[0m \u001b[0;34m=\u001b[0m \u001b[0mtrain_function\u001b[0m\u001b[0;34m(\u001b[0m\u001b[0miterator\u001b[0m\u001b[0;34m)\u001b[0m\u001b[0;34m\u001b[0m\u001b[0;34m\u001b[0m\u001b[0m\n\u001b[0m\u001b[1;32m    849\u001b[0m               \u001b[0;31m# Catch OutOfRangeError for Datasets of unknown size.\u001b[0m\u001b[0;34m\u001b[0m\u001b[0;34m\u001b[0m\u001b[0;34m\u001b[0m\u001b[0m\n\u001b[1;32m    850\u001b[0m               \u001b[0;31m# This blocks until the batch has finished executing.\u001b[0m\u001b[0;34m\u001b[0m\u001b[0;34m\u001b[0m\u001b[0;34m\u001b[0m\u001b[0m\n",
      "\u001b[0;32m~/miniconda3/envs/tensorflow/lib/python3.8/site-packages/tensorflow/python/eager/def_function.py\u001b[0m in \u001b[0;36m__call__\u001b[0;34m(self, *args, **kwds)\u001b[0m\n\u001b[1;32m    578\u001b[0m         \u001b[0mxla_context\u001b[0m\u001b[0;34m.\u001b[0m\u001b[0mExit\u001b[0m\u001b[0;34m(\u001b[0m\u001b[0;34m)\u001b[0m\u001b[0;34m\u001b[0m\u001b[0;34m\u001b[0m\u001b[0m\n\u001b[1;32m    579\u001b[0m     \u001b[0;32melse\u001b[0m\u001b[0;34m:\u001b[0m\u001b[0;34m\u001b[0m\u001b[0;34m\u001b[0m\u001b[0m\n\u001b[0;32m--> 580\u001b[0;31m       \u001b[0mresult\u001b[0m \u001b[0;34m=\u001b[0m \u001b[0mself\u001b[0m\u001b[0;34m.\u001b[0m\u001b[0m_call\u001b[0m\u001b[0;34m(\u001b[0m\u001b[0;34m*\u001b[0m\u001b[0margs\u001b[0m\u001b[0;34m,\u001b[0m \u001b[0;34m**\u001b[0m\u001b[0mkwds\u001b[0m\u001b[0;34m)\u001b[0m\u001b[0;34m\u001b[0m\u001b[0;34m\u001b[0m\u001b[0m\n\u001b[0m\u001b[1;32m    581\u001b[0m \u001b[0;34m\u001b[0m\u001b[0m\n\u001b[1;32m    582\u001b[0m     \u001b[0;32mif\u001b[0m \u001b[0mtracing_count\u001b[0m \u001b[0;34m==\u001b[0m \u001b[0mself\u001b[0m\u001b[0;34m.\u001b[0m\u001b[0m_get_tracing_count\u001b[0m\u001b[0;34m(\u001b[0m\u001b[0;34m)\u001b[0m\u001b[0;34m:\u001b[0m\u001b[0;34m\u001b[0m\u001b[0;34m\u001b[0m\u001b[0m\n",
      "\u001b[0;32m~/miniconda3/envs/tensorflow/lib/python3.8/site-packages/tensorflow/python/eager/def_function.py\u001b[0m in \u001b[0;36m_call\u001b[0;34m(self, *args, **kwds)\u001b[0m\n\u001b[1;32m    609\u001b[0m       \u001b[0;31m# In this case we have created variables on the first call, so we run the\u001b[0m\u001b[0;34m\u001b[0m\u001b[0;34m\u001b[0m\u001b[0;34m\u001b[0m\u001b[0m\n\u001b[1;32m    610\u001b[0m       \u001b[0;31m# defunned version which is guaranteed to never create variables.\u001b[0m\u001b[0;34m\u001b[0m\u001b[0;34m\u001b[0m\u001b[0;34m\u001b[0m\u001b[0m\n\u001b[0;32m--> 611\u001b[0;31m       \u001b[0;32mreturn\u001b[0m \u001b[0mself\u001b[0m\u001b[0;34m.\u001b[0m\u001b[0m_stateless_fn\u001b[0m\u001b[0;34m(\u001b[0m\u001b[0;34m*\u001b[0m\u001b[0margs\u001b[0m\u001b[0;34m,\u001b[0m \u001b[0;34m**\u001b[0m\u001b[0mkwds\u001b[0m\u001b[0;34m)\u001b[0m  \u001b[0;31m# pylint: disable=not-callable\u001b[0m\u001b[0;34m\u001b[0m\u001b[0;34m\u001b[0m\u001b[0m\n\u001b[0m\u001b[1;32m    612\u001b[0m     \u001b[0;32melif\u001b[0m \u001b[0mself\u001b[0m\u001b[0;34m.\u001b[0m\u001b[0m_stateful_fn\u001b[0m \u001b[0;32mis\u001b[0m \u001b[0;32mnot\u001b[0m \u001b[0;32mNone\u001b[0m\u001b[0;34m:\u001b[0m\u001b[0;34m\u001b[0m\u001b[0;34m\u001b[0m\u001b[0m\n\u001b[1;32m    613\u001b[0m       \u001b[0;31m# Release the lock early so that multiple threads can perform the call\u001b[0m\u001b[0;34m\u001b[0m\u001b[0;34m\u001b[0m\u001b[0;34m\u001b[0m\u001b[0m\n",
      "\u001b[0;32m~/miniconda3/envs/tensorflow/lib/python3.8/site-packages/tensorflow/python/eager/function.py\u001b[0m in \u001b[0;36m__call__\u001b[0;34m(self, *args, **kwargs)\u001b[0m\n\u001b[1;32m   2418\u001b[0m     \u001b[0;32mwith\u001b[0m \u001b[0mself\u001b[0m\u001b[0;34m.\u001b[0m\u001b[0m_lock\u001b[0m\u001b[0;34m:\u001b[0m\u001b[0;34m\u001b[0m\u001b[0;34m\u001b[0m\u001b[0m\n\u001b[1;32m   2419\u001b[0m       \u001b[0mgraph_function\u001b[0m\u001b[0;34m,\u001b[0m \u001b[0margs\u001b[0m\u001b[0;34m,\u001b[0m \u001b[0mkwargs\u001b[0m \u001b[0;34m=\u001b[0m \u001b[0mself\u001b[0m\u001b[0;34m.\u001b[0m\u001b[0m_maybe_define_function\u001b[0m\u001b[0;34m(\u001b[0m\u001b[0margs\u001b[0m\u001b[0;34m,\u001b[0m \u001b[0mkwargs\u001b[0m\u001b[0;34m)\u001b[0m\u001b[0;34m\u001b[0m\u001b[0;34m\u001b[0m\u001b[0m\n\u001b[0;32m-> 2420\u001b[0;31m     \u001b[0;32mreturn\u001b[0m \u001b[0mgraph_function\u001b[0m\u001b[0;34m.\u001b[0m\u001b[0m_filtered_call\u001b[0m\u001b[0;34m(\u001b[0m\u001b[0margs\u001b[0m\u001b[0;34m,\u001b[0m \u001b[0mkwargs\u001b[0m\u001b[0;34m)\u001b[0m  \u001b[0;31m# pylint: disable=protected-access\u001b[0m\u001b[0;34m\u001b[0m\u001b[0;34m\u001b[0m\u001b[0m\n\u001b[0m\u001b[1;32m   2421\u001b[0m \u001b[0;34m\u001b[0m\u001b[0m\n\u001b[1;32m   2422\u001b[0m   \u001b[0;34m@\u001b[0m\u001b[0mproperty\u001b[0m\u001b[0;34m\u001b[0m\u001b[0;34m\u001b[0m\u001b[0m\n",
      "\u001b[0;32m~/miniconda3/envs/tensorflow/lib/python3.8/site-packages/tensorflow/python/eager/function.py\u001b[0m in \u001b[0;36m_filtered_call\u001b[0;34m(self, args, kwargs)\u001b[0m\n\u001b[1;32m   1659\u001b[0m       \u001b[0;31m`\u001b[0m\u001b[0margs\u001b[0m\u001b[0;31m`\u001b[0m \u001b[0;32mand\u001b[0m\u001b[0;31m \u001b[0m\u001b[0;31m`\u001b[0m\u001b[0mkwargs\u001b[0m\u001b[0;31m`\u001b[0m\u001b[0;34m.\u001b[0m\u001b[0;34m\u001b[0m\u001b[0;34m\u001b[0m\u001b[0m\n\u001b[1;32m   1660\u001b[0m     \"\"\"\n\u001b[0;32m-> 1661\u001b[0;31m     return self._call_flat(\n\u001b[0m\u001b[1;32m   1662\u001b[0m         (t for t in nest.flatten((args, kwargs), expand_composites=True)\n\u001b[1;32m   1663\u001b[0m          if isinstance(t, (ops.Tensor,\n",
      "\u001b[0;32m~/miniconda3/envs/tensorflow/lib/python3.8/site-packages/tensorflow/python/eager/function.py\u001b[0m in \u001b[0;36m_call_flat\u001b[0;34m(self, args, captured_inputs, cancellation_manager)\u001b[0m\n\u001b[1;32m   1743\u001b[0m         and executing_eagerly):\n\u001b[1;32m   1744\u001b[0m       \u001b[0;31m# No tape is watching; skip to running the function.\u001b[0m\u001b[0;34m\u001b[0m\u001b[0;34m\u001b[0m\u001b[0;34m\u001b[0m\u001b[0m\n\u001b[0;32m-> 1745\u001b[0;31m       return self._build_call_outputs(self._inference_function.call(\n\u001b[0m\u001b[1;32m   1746\u001b[0m           ctx, args, cancellation_manager=cancellation_manager))\n\u001b[1;32m   1747\u001b[0m     forward_backward = self._select_forward_and_backward_functions(\n",
      "\u001b[0;32m~/miniconda3/envs/tensorflow/lib/python3.8/site-packages/tensorflow/python/eager/function.py\u001b[0m in \u001b[0;36mcall\u001b[0;34m(self, ctx, args, cancellation_manager)\u001b[0m\n\u001b[1;32m    591\u001b[0m       \u001b[0;32mwith\u001b[0m \u001b[0m_InterpolateFunctionError\u001b[0m\u001b[0;34m(\u001b[0m\u001b[0mself\u001b[0m\u001b[0;34m)\u001b[0m\u001b[0;34m:\u001b[0m\u001b[0;34m\u001b[0m\u001b[0;34m\u001b[0m\u001b[0m\n\u001b[1;32m    592\u001b[0m         \u001b[0;32mif\u001b[0m \u001b[0mcancellation_manager\u001b[0m \u001b[0;32mis\u001b[0m \u001b[0;32mNone\u001b[0m\u001b[0;34m:\u001b[0m\u001b[0;34m\u001b[0m\u001b[0;34m\u001b[0m\u001b[0m\n\u001b[0;32m--> 593\u001b[0;31m           outputs = execute.execute(\n\u001b[0m\u001b[1;32m    594\u001b[0m               \u001b[0mstr\u001b[0m\u001b[0;34m(\u001b[0m\u001b[0mself\u001b[0m\u001b[0;34m.\u001b[0m\u001b[0msignature\u001b[0m\u001b[0;34m.\u001b[0m\u001b[0mname\u001b[0m\u001b[0;34m)\u001b[0m\u001b[0;34m,\u001b[0m\u001b[0;34m\u001b[0m\u001b[0;34m\u001b[0m\u001b[0m\n\u001b[1;32m    595\u001b[0m               \u001b[0mnum_outputs\u001b[0m\u001b[0;34m=\u001b[0m\u001b[0mself\u001b[0m\u001b[0;34m.\u001b[0m\u001b[0m_num_outputs\u001b[0m\u001b[0;34m,\u001b[0m\u001b[0;34m\u001b[0m\u001b[0;34m\u001b[0m\u001b[0m\n",
      "\u001b[0;32m~/miniconda3/envs/tensorflow/lib/python3.8/site-packages/tensorflow/python/eager/execute.py\u001b[0m in \u001b[0;36mquick_execute\u001b[0;34m(op_name, num_outputs, inputs, attrs, ctx, name)\u001b[0m\n\u001b[1;32m     57\u001b[0m   \u001b[0;32mtry\u001b[0m\u001b[0;34m:\u001b[0m\u001b[0;34m\u001b[0m\u001b[0;34m\u001b[0m\u001b[0m\n\u001b[1;32m     58\u001b[0m     \u001b[0mctx\u001b[0m\u001b[0;34m.\u001b[0m\u001b[0mensure_initialized\u001b[0m\u001b[0;34m(\u001b[0m\u001b[0;34m)\u001b[0m\u001b[0;34m\u001b[0m\u001b[0;34m\u001b[0m\u001b[0m\n\u001b[0;32m---> 59\u001b[0;31m     tensors = pywrap_tfe.TFE_Py_Execute(ctx._handle, device_name, op_name,\n\u001b[0m\u001b[1;32m     60\u001b[0m                                         inputs, attrs, num_outputs)\n\u001b[1;32m     61\u001b[0m   \u001b[0;32mexcept\u001b[0m \u001b[0mcore\u001b[0m\u001b[0;34m.\u001b[0m\u001b[0m_NotOkStatusException\u001b[0m \u001b[0;32mas\u001b[0m \u001b[0me\u001b[0m\u001b[0;34m:\u001b[0m\u001b[0;34m\u001b[0m\u001b[0;34m\u001b[0m\u001b[0m\n",
      "\u001b[0;31mKeyboardInterrupt\u001b[0m: "
     ]
    }
   ],
   "source": [
    "X = np.array(X_train)\n",
    "y = np.array(y_train)\n",
    "print(X.shape)\n",
    "history = model.fit(x=X, y = y, epochs=100, batch_size=1)\n"
   ]
  },
  {
   "cell_type": "code",
   "execution_count": 119,
   "id": "tracked-bible",
   "metadata": {},
   "outputs": [],
   "source": [
    "x_test = np.array(X_test)\n",
    "y_test = np.array(y_test)"
   ]
  },
  {
   "cell_type": "code",
   "execution_count": 120,
   "id": "increasing-relief",
   "metadata": {},
   "outputs": [
    {
     "name": "stdout",
     "output_type": "stream",
     "text": [
      "(28, 8977, 46)\n"
     ]
    }
   ],
   "source": [
    "print(x_test.shape)"
   ]
  },
  {
   "cell_type": "code",
   "execution_count": 121,
   "id": "liquid-programmer",
   "metadata": {},
   "outputs": [],
   "source": [
    "predictions = model.predict(x_test)"
   ]
  },
  {
   "cell_type": "code",
   "execution_count": 122,
   "id": "developmental-chorus",
   "metadata": {},
   "outputs": [
    {
     "name": "stdout",
     "output_type": "stream",
     "text": [
      "(28, 8977, 1)\n"
     ]
    }
   ],
   "source": [
    "print(predictions.shape)"
   ]
  },
  {
   "cell_type": "code",
   "execution_count": 123,
   "id": "integrated-nurse",
   "metadata": {},
   "outputs": [
    {
     "data": {
      "image/png": "[encoded data removed]",
      "text/plain": [
       "<Figure size 432x288 with 1 Axes>"
      ]
     },
     "metadata": {
      "needs_background": "light"
     },
     "output_type": "display_data"
    }
   ],
   "source": [
    "\n",
    "\n",
    "for lap in range(len(predictions)):\n",
    "    lap_1_pred = predictions[lap]\n",
    "    plt.plot(lap_1_pred)\n",
    "    plt.plot(y_test[lap])\n",
    "plt.legend(['pred', 'real'], loc='upper right')\n",
    "plt.show()\n",
    "\n"
   ]
  },
  {
   "cell_type": "code",
   "execution_count": 124,
   "id": "distributed-saying",
   "metadata": {},
   "outputs": [
    {
     "data": {
      "image/png": "[encoded data removed]",
      "text/plain": [
       "<Figure size 432x288 with 1 Axes>"
      ]
     },
     "metadata": {
      "needs_background": "light"
     },
     "output_type": "display_data"
    }
   ],
   "source": [
    "plt.plot(history.history['loss'])\n",
    "plt.title('Model loss')\n",
    "plt.ylabel('loss')\n",
    "plt.xlabel('epoch')\n",
    "plt.legend(['train', 'test'], loc='upper left')\n",
    "plt.show()"
   ]
  },
  {
   "cell_type": "code",
   "execution_count": null,
   "id": "spoken-attempt",
   "metadata": {},
   "outputs": [],
   "source": []
  }
 ],
 "metadata": {
  "kernelspec": {
   "display_name": "Python 3.7 (tensorflow)",
   "language": "python",
   "name": "tensorflow"
  },
  "language_info": {
   "codemirror_mode": {
    "name": "ipython",
    "version": 3
   },
   "file_extension": ".py",
   "mimetype": "text/x-python",
   "name": "python",
   "nbconvert_exporter": "python",
   "pygments_lexer": "ipython3",
   "version": "3.8.5"
  }
 },
 "nbformat": 4,
 "nbformat_minor": 5
}
